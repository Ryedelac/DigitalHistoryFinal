{
 "cells": [
  {
   "cell_type": "markdown",
   "metadata": {},
   "source": [
    "# Extracting Gendered Constructions with spaCy"
   ]
  },
  {
   "cell_type": "markdown",
   "metadata": {},
   "source": [
    "### The Ongoing Problem of Data-Driven Text Analysis"
   ]
  },
  {
   "cell_type": "markdown",
   "metadata": {},
   "source": [
    "The process of extracting meaningful language patterns poses underlying challenges for any data-driven textual analysis. Here, this challenge is imagined as two-fold: analysts must determine which patterns are \"meaningful\" and analysts must apply the appropriate methods and tools to extract these meaningful patterns.\n",
    "\n",
    "Analysts must also match guiding questions with an appropriate technique. They must be observant to how the methods and tools used to measure a corpus also give shape to the corpus and our analysis.\n",
    "\n",
    "The purpose of this Notebook is thus to engage with this two-fold problem while text mining with spaCy NLP. \n",
    "\n",
    "In this exercise we will text mine a sample of the 2008 Subreddits: Worldnews, News, and Politics with the purpose of analyzing word co-occurance of grammatical gendered pronoun-verb pairs. These pairs are not necessarily consecutive, like bigrams, but instead share syntactic relations in a sentence.\n",
    "\n",
    "This Notebook will ask a high-level, guiding question about gender: what kinds of actions are associated with male and female pronouns in this data set? "
   ]
  },
  {
   "cell_type": "markdown",
   "metadata": {},
   "source": [
    "### Getting Started"
   ]
  },
  {
   "cell_type": "markdown",
   "metadata": {},
   "source": [
    "First import spaCy."
   ]
  },
  {
   "cell_type": "code",
   "execution_count": 1,
   "metadata": {},
   "outputs": [],
   "source": [
    "import spacy, warnings; warnings.simplefilter('ignore')\n",
    "import pandas as pd"
   ]
  },
  {
   "cell_type": "markdown",
   "metadata": {},
   "source": [
    "spaCy's language model can be loaded with `spacy.load()`. `spacy.load()` returns a `Language` object with the components and data required to process text such as a tagger and a tokenizer. \n",
    "\n",
    "For convention's-sake we will call our `Language` object `nlp`."
   ]
  },
  {
   "cell_type": "code",
   "execution_count": 2,
   "metadata": {},
   "outputs": [],
   "source": [
    "nlp = spacy.load('en_core_web_sm')"
   ]
  },
  {
   "cell_type": "markdown",
   "metadata": {},
   "source": [
    "### Loading the Congress data"
   ]
  },
  {
   "cell_type": "code",
   "execution_count": 6,
   "metadata": {},
   "outputs": [
    {
     "name": "stdout",
     "output_type": "stream",
     "text": [
      "Reading /scratch/group/oit_research_data/stanford_congress/hein-bound/speeches_091.txt...\n",
      "Reading /scratch/group/oit_research_data/stanford_congress/hein-bound/speeches_092.txt...\n",
      "Reading /scratch/group/oit_research_data/stanford_congress/hein-bound/speeches_093.txt...\n",
      "Reading /scratch/group/oit_research_data/stanford_congress/hein-bound/speeches_094.txt...\n",
      "Reading /scratch/group/oit_research_data/stanford_congress/hein-bound/speeches_095.txt...\n",
      "Reading /scratch/group/oit_research_data/stanford_congress/hein-bound/speeches_096.txt...\n",
      "Reading /scratch/group/oit_research_data/stanford_congress/hein-bound/speeches_097.txt...\n",
      "Reading /scratch/group/oit_research_data/stanford_congress/hein-bound/speeches_098.txt...\n",
      "Reading /scratch/group/oit_research_data/stanford_congress/hein-bound/speeches_099.txt...\n",
      "Reading /scratch/group/oit_research_data/stanford_congress/hein-bound/speeches_100.txt...\n",
      "Reading /scratch/group/oit_research_data/stanford_congress/hein-bound/speeches_101.txt...\n",
      "Reading /scratch/group/oit_research_data/stanford_congress/hein-bound/speeches_102.txt...\n",
      "Reading /scratch/group/oit_research_data/stanford_congress/hein-bound/speeches_103.txt...\n",
      "Reading /scratch/group/oit_research_data/stanford_congress/hein-bound/speeches_104.txt...\n",
      "Reading /scratch/group/oit_research_data/stanford_congress/hein-bound/speeches_105.txt...\n",
      "Reading /scratch/group/oit_research_data/stanford_congress/hein-bound/speeches_106.txt...\n",
      "Reading /scratch/group/oit_research_data/stanford_congress/hein-bound/speeches_107.txt...\n",
      "Reading /scratch/group/oit_research_data/stanford_congress/hein-bound/speeches_108.txt...\n",
      "Reading /scratch/group/oit_research_data/stanford_congress/hein-bound/speeches_109.txt...\n",
      "Reading /scratch/group/oit_research_data/stanford_congress/hein-bound/speeches_110.txt...\n",
      "Reading /scratch/group/oit_research_data/stanford_congress/hein-bound/speeches_111.txt...\n",
      "Reading /scratch/group/oit_research_data/stanford_congress/hein-bound/descr_091.txt...\n",
      "Reading /scratch/group/oit_research_data/stanford_congress/hein-bound/descr_092.txt...\n",
      "Reading /scratch/group/oit_research_data/stanford_congress/hein-bound/descr_093.txt...\n",
      "Reading /scratch/group/oit_research_data/stanford_congress/hein-bound/descr_094.txt...\n",
      "Reading /scratch/group/oit_research_data/stanford_congress/hein-bound/descr_095.txt...\n",
      "Reading /scratch/group/oit_research_data/stanford_congress/hein-bound/descr_096.txt...\n",
      "Reading /scratch/group/oit_research_data/stanford_congress/hein-bound/descr_097.txt...\n",
      "Reading /scratch/group/oit_research_data/stanford_congress/hein-bound/descr_098.txt...\n",
      "Reading /scratch/group/oit_research_data/stanford_congress/hein-bound/descr_099.txt...\n",
      "Reading /scratch/group/oit_research_data/stanford_congress/hein-bound/descr_100.txt...\n",
      "Reading /scratch/group/oit_research_data/stanford_congress/hein-bound/descr_101.txt...\n",
      "Reading /scratch/group/oit_research_data/stanford_congress/hein-bound/descr_102.txt...\n",
      "Reading /scratch/group/oit_research_data/stanford_congress/hein-bound/descr_103.txt...\n",
      "Reading /scratch/group/oit_research_data/stanford_congress/hein-bound/descr_104.txt...\n",
      "Reading /scratch/group/oit_research_data/stanford_congress/hein-bound/descr_105.txt...\n",
      "Reading /scratch/group/oit_research_data/stanford_congress/hein-bound/descr_106.txt...\n",
      "Reading /scratch/group/oit_research_data/stanford_congress/hein-bound/descr_107.txt...\n",
      "Reading /scratch/group/oit_research_data/stanford_congress/hein-bound/descr_108.txt...\n",
      "Reading /scratch/group/oit_research_data/stanford_congress/hein-bound/descr_109.txt...\n",
      "Reading /scratch/group/oit_research_data/stanford_congress/hein-bound/descr_110.txt...\n",
      "Reading /scratch/group/oit_research_data/stanford_congress/hein-bound/descr_111.txt...\n"
     ]
    },
    {
     "data": {
      "text/html": [
       "<div>\n",
       "<style scoped>\n",
       "    .dataframe tbody tr th:only-of-type {\n",
       "        vertical-align: middle;\n",
       "    }\n",
       "\n",
       "    .dataframe tbody tr th {\n",
       "        vertical-align: top;\n",
       "    }\n",
       "\n",
       "    .dataframe thead th {\n",
       "        text-align: right;\n",
       "    }\n",
       "</style>\n",
       "<table border=\"1\" class=\"dataframe\">\n",
       "  <thead>\n",
       "    <tr style=\"text-align: right;\">\n",
       "      <th></th>\n",
       "      <th>speech_id</th>\n",
       "      <th>speech</th>\n",
       "      <th>chamber</th>\n",
       "      <th>date</th>\n",
       "      <th>number_within_file</th>\n",
       "      <th>speaker</th>\n",
       "      <th>first_name</th>\n",
       "      <th>last_name</th>\n",
       "      <th>state</th>\n",
       "      <th>gender</th>\n",
       "      <th>line_start</th>\n",
       "      <th>line_end</th>\n",
       "      <th>file</th>\n",
       "      <th>char_count</th>\n",
       "      <th>word_count</th>\n",
       "    </tr>\n",
       "  </thead>\n",
       "  <tbody>\n",
       "    <tr>\n",
       "      <th>0</th>\n",
       "      <td>910000001</td>\n",
       "      <td>Mr. President. it is with deep regret that I a...</td>\n",
       "      <td>S</td>\n",
       "      <td>19690103</td>\n",
       "      <td>1</td>\n",
       "      <td>Mr. MANSFIELD</td>\n",
       "      <td>Unknown</td>\n",
       "      <td>MANSFIELD</td>\n",
       "      <td>Unknown</td>\n",
       "      <td>M</td>\n",
       "      <td>62</td>\n",
       "      <td>72</td>\n",
       "      <td>01031969.txt</td>\n",
       "      <td>320</td>\n",
       "      <td>57</td>\n",
       "    </tr>\n",
       "    <tr>\n",
       "      <th>1</th>\n",
       "      <td>910000002</td>\n",
       "      <td>The Chair lays before the Senate the following...</td>\n",
       "      <td>S</td>\n",
       "      <td>19690103</td>\n",
       "      <td>2</td>\n",
       "      <td>The VICE PRESIDENT</td>\n",
       "      <td>Unknown</td>\n",
       "      <td>Unknown</td>\n",
       "      <td>Unknown</td>\n",
       "      <td>Special</td>\n",
       "      <td>75</td>\n",
       "      <td>84</td>\n",
       "      <td>01031969.txt</td>\n",
       "      <td>315</td>\n",
       "      <td>50</td>\n",
       "    </tr>\n",
       "    <tr>\n",
       "      <th>2</th>\n",
       "      <td>910000003</td>\n",
       "      <td>(Edward E. Mansur) read as follows:</td>\n",
       "      <td>S</td>\n",
       "      <td>19690103</td>\n",
       "      <td>3</td>\n",
       "      <td>The legislative clerk</td>\n",
       "      <td>Unknown</td>\n",
       "      <td>Unknown</td>\n",
       "      <td>Unknown</td>\n",
       "      <td>Special</td>\n",
       "      <td>85</td>\n",
       "      <td>86</td>\n",
       "      <td>01031969.txt</td>\n",
       "      <td>35</td>\n",
       "      <td>6</td>\n",
       "    </tr>\n",
       "    <tr>\n",
       "      <th>3</th>\n",
       "      <td>910000004</td>\n",
       "      <td>The Chair lays before the Senate the credentia...</td>\n",
       "      <td>S</td>\n",
       "      <td>19690103</td>\n",
       "      <td>4</td>\n",
       "      <td>The VICE PRESIDENT</td>\n",
       "      <td>Unknown</td>\n",
       "      <td>Unknown</td>\n",
       "      <td>Unknown</td>\n",
       "      <td>Special</td>\n",
       "      <td>258</td>\n",
       "      <td>271</td>\n",
       "      <td>01031969.txt</td>\n",
       "      <td>443</td>\n",
       "      <td>78</td>\n",
       "    </tr>\n",
       "    <tr>\n",
       "      <th>4</th>\n",
       "      <td>910000005</td>\n",
       "      <td>The Senators to be sworn in will now present t...</td>\n",
       "      <td>S</td>\n",
       "      <td>19690103</td>\n",
       "      <td>5</td>\n",
       "      <td>The VICE PRESIDENT</td>\n",
       "      <td>Unknown</td>\n",
       "      <td>Unknown</td>\n",
       "      <td>Unknown</td>\n",
       "      <td>Special</td>\n",
       "      <td>1015</td>\n",
       "      <td>1021</td>\n",
       "      <td>01031969.txt</td>\n",
       "      <td>213</td>\n",
       "      <td>39</td>\n",
       "    </tr>\n",
       "  </tbody>\n",
       "</table>\n",
       "</div>"
      ],
      "text/plain": [
       "   speech_id                                             speech chamber  \\\n",
       "0  910000001  Mr. President. it is with deep regret that I a...       S   \n",
       "1  910000002  The Chair lays before the Senate the following...       S   \n",
       "2  910000003                (Edward E. Mansur) read as follows:       S   \n",
       "3  910000004  The Chair lays before the Senate the credentia...       S   \n",
       "4  910000005  The Senators to be sworn in will now present t...       S   \n",
       "\n",
       "       date  number_within_file                speaker first_name  last_name  \\\n",
       "0  19690103                   1          Mr. MANSFIELD    Unknown  MANSFIELD   \n",
       "1  19690103                   2     The VICE PRESIDENT    Unknown    Unknown   \n",
       "2  19690103                   3  The legislative clerk    Unknown    Unknown   \n",
       "3  19690103                   4     The VICE PRESIDENT    Unknown    Unknown   \n",
       "4  19690103                   5     The VICE PRESIDENT    Unknown    Unknown   \n",
       "\n",
       "     state   gender  line_start  line_end          file  char_count  \\\n",
       "0  Unknown        M          62        72  01031969.txt         320   \n",
       "1  Unknown  Special          75        84  01031969.txt         315   \n",
       "2  Unknown  Special          85        86  01031969.txt          35   \n",
       "3  Unknown  Special         258       271  01031969.txt         443   \n",
       "4  Unknown  Special        1015      1021  01031969.txt         213   \n",
       "\n",
       "   word_count  \n",
       "0          57  \n",
       "1          50  \n",
       "2           6  \n",
       "3          78  \n",
       "4          39  "
      ]
     },
     "execution_count": 6,
     "metadata": {},
     "output_type": "execute_result"
    }
   ],
   "source": [
    "all_speech_files = glob.glob('/scratch/group/oit_research_data/stanford_congress/hein-bound/speeches_*.txt')\n",
    "CONGRESS_MIN_THRESHOLD = 91\n",
    "CONGRESS_MAX_THRESHOLD = 120\n",
    "\n",
    "speech_files = []\n",
    "\n",
    "for fn in all_speech_files:\n",
    "    number = int(fn.rsplit('_', 1)[-1].split('.')[0])\n",
    "    if CONGRESS_MIN_THRESHOLD <= number <= CONGRESS_MAX_THRESHOLD:\n",
    "        speech_files.append(fn)\n",
    "\n",
    "speech_files.sort()\n",
    "        \n",
    "def parse_one(fn):\n",
    "    print(f'Reading {fn}...')\n",
    "    return pd.read_csv(fn, sep='|', encoding=\"ISO-8859-1\", error_bad_lines=False, warn_bad_lines=False, quoting=csv.QUOTE_NONE)\n",
    "\n",
    "speeches_df = pd.concat((parse_one(fn) for fn in speech_files))\n",
    "speeches_df.dropna(how='any', inplace=True)\n",
    "\n",
    "all_description_files = glob.glob('/scratch/group/oit_research_data/stanford_congress/hein-bound/descr_*.txt')\n",
    "                                  \n",
    "description_files = []\n",
    "\n",
    "for fn in all_description_files:\n",
    "    number = int(fn.rsplit('_', 1)[-1].split('.')[0])\n",
    "    if CONGRESS_MIN_THRESHOLD <= number <= CONGRESS_MAX_THRESHOLD:\n",
    "        description_files.append(fn)\n",
    "        description_files.sort()\n",
    "        \n",
    "description_df = pd.concat((parse_one(fn) for fn in description_files))\n",
    "\n",
    "all_data = pd.merge(speeches_df, description_df, on = 'speech_id')\n",
    "all_data.fillna(0, inplace=True)\n",
    "all_data.head()"
   ]
  },
  {
   "cell_type": "markdown",
   "metadata": {},
   "source": [
    "### Dates of Congress Data"
   ]
  },
  {
   "cell_type": "markdown",
   "metadata": {},
   "source": [
    "The following code reads our sample into a pandas DataFrame."
   ]
  },
  {
   "cell_type": "code",
   "execution_count": 4,
   "metadata": {},
   "outputs": [],
   "source": [
    "import datetime\n",
    "import pandas as pd\n",
    "import numpy as np"
   ]
  },
  {
   "cell_type": "code",
   "execution_count": 5,
   "metadata": {},
   "outputs": [],
   "source": [
    "import pandas as pd\n",
    "import csv\n",
    "import glob"
   ]
  },
  {
   "cell_type": "code",
   "execution_count": 7,
   "metadata": {},
   "outputs": [
    {
     "data": {
      "text/html": [
       "<div>\n",
       "<style scoped>\n",
       "    .dataframe tbody tr th:only-of-type {\n",
       "        vertical-align: middle;\n",
       "    }\n",
       "\n",
       "    .dataframe tbody tr th {\n",
       "        vertical-align: top;\n",
       "    }\n",
       "\n",
       "    .dataframe thead th {\n",
       "        text-align: right;\n",
       "    }\n",
       "</style>\n",
       "<table border=\"1\" class=\"dataframe\">\n",
       "  <thead>\n",
       "    <tr style=\"text-align: right;\">\n",
       "      <th></th>\n",
       "      <th>speech_id</th>\n",
       "      <th>speech</th>\n",
       "      <th>chamber</th>\n",
       "      <th>date</th>\n",
       "      <th>number_within_file</th>\n",
       "      <th>speaker</th>\n",
       "      <th>first_name</th>\n",
       "      <th>last_name</th>\n",
       "      <th>state</th>\n",
       "      <th>gender</th>\n",
       "      <th>line_start</th>\n",
       "      <th>line_end</th>\n",
       "      <th>file</th>\n",
       "      <th>char_count</th>\n",
       "      <th>word_count</th>\n",
       "    </tr>\n",
       "  </thead>\n",
       "  <tbody>\n",
       "    <tr>\n",
       "      <th>0</th>\n",
       "      <td>910000001</td>\n",
       "      <td>Mr. President. it is with deep regret that I a...</td>\n",
       "      <td>S</td>\n",
       "      <td>19690103</td>\n",
       "      <td>1</td>\n",
       "      <td>Mr. MANSFIELD</td>\n",
       "      <td>Unknown</td>\n",
       "      <td>MANSFIELD</td>\n",
       "      <td>Unknown</td>\n",
       "      <td>M</td>\n",
       "      <td>62</td>\n",
       "      <td>72</td>\n",
       "      <td>01031969.txt</td>\n",
       "      <td>320</td>\n",
       "      <td>57</td>\n",
       "    </tr>\n",
       "    <tr>\n",
       "      <th>1</th>\n",
       "      <td>910000002</td>\n",
       "      <td>The Chair lays before the Senate the following...</td>\n",
       "      <td>S</td>\n",
       "      <td>19690103</td>\n",
       "      <td>2</td>\n",
       "      <td>The VICE PRESIDENT</td>\n",
       "      <td>Unknown</td>\n",
       "      <td>Unknown</td>\n",
       "      <td>Unknown</td>\n",
       "      <td>Special</td>\n",
       "      <td>75</td>\n",
       "      <td>84</td>\n",
       "      <td>01031969.txt</td>\n",
       "      <td>315</td>\n",
       "      <td>50</td>\n",
       "    </tr>\n",
       "    <tr>\n",
       "      <th>2</th>\n",
       "      <td>910000003</td>\n",
       "      <td>(Edward E. Mansur) read as follows:</td>\n",
       "      <td>S</td>\n",
       "      <td>19690103</td>\n",
       "      <td>3</td>\n",
       "      <td>The legislative clerk</td>\n",
       "      <td>Unknown</td>\n",
       "      <td>Unknown</td>\n",
       "      <td>Unknown</td>\n",
       "      <td>Special</td>\n",
       "      <td>85</td>\n",
       "      <td>86</td>\n",
       "      <td>01031969.txt</td>\n",
       "      <td>35</td>\n",
       "      <td>6</td>\n",
       "    </tr>\n",
       "    <tr>\n",
       "      <th>3</th>\n",
       "      <td>910000004</td>\n",
       "      <td>The Chair lays before the Senate the credentia...</td>\n",
       "      <td>S</td>\n",
       "      <td>19690103</td>\n",
       "      <td>4</td>\n",
       "      <td>The VICE PRESIDENT</td>\n",
       "      <td>Unknown</td>\n",
       "      <td>Unknown</td>\n",
       "      <td>Unknown</td>\n",
       "      <td>Special</td>\n",
       "      <td>258</td>\n",
       "      <td>271</td>\n",
       "      <td>01031969.txt</td>\n",
       "      <td>443</td>\n",
       "      <td>78</td>\n",
       "    </tr>\n",
       "    <tr>\n",
       "      <th>4</th>\n",
       "      <td>910000005</td>\n",
       "      <td>The Senators to be sworn in will now present t...</td>\n",
       "      <td>S</td>\n",
       "      <td>19690103</td>\n",
       "      <td>5</td>\n",
       "      <td>The VICE PRESIDENT</td>\n",
       "      <td>Unknown</td>\n",
       "      <td>Unknown</td>\n",
       "      <td>Unknown</td>\n",
       "      <td>Special</td>\n",
       "      <td>1015</td>\n",
       "      <td>1021</td>\n",
       "      <td>01031969.txt</td>\n",
       "      <td>213</td>\n",
       "      <td>39</td>\n",
       "    </tr>\n",
       "    <tr>\n",
       "      <th>...</th>\n",
       "      <td>...</td>\n",
       "      <td>...</td>\n",
       "      <td>...</td>\n",
       "      <td>...</td>\n",
       "      <td>...</td>\n",
       "      <td>...</td>\n",
       "      <td>...</td>\n",
       "      <td>...</td>\n",
       "      <td>...</td>\n",
       "      <td>...</td>\n",
       "      <td>...</td>\n",
       "      <td>...</td>\n",
       "      <td>...</td>\n",
       "      <td>...</td>\n",
       "      <td>...</td>\n",
       "    </tr>\n",
       "    <tr>\n",
       "      <th>5658400</th>\n",
       "      <td>1110179264</td>\n",
       "      <td>Madam Speaker. on rollcall Nos. 662 and 661. I...</td>\n",
       "      <td>E</td>\n",
       "      <td>20101222</td>\n",
       "      <td>699</td>\n",
       "      <td>Ms. GRANGER</td>\n",
       "      <td>Unknown</td>\n",
       "      <td>GRANGER</td>\n",
       "      <td>Unknown</td>\n",
       "      <td>F</td>\n",
       "      <td>52713</td>\n",
       "      <td>52716</td>\n",
       "      <td>12222010.txt</td>\n",
       "      <td>118</td>\n",
       "      <td>23</td>\n",
       "    </tr>\n",
       "    <tr>\n",
       "      <th>5658401</th>\n",
       "      <td>1110179265</td>\n",
       "      <td>Madam Speaker. as I leave Congress as the peop...</td>\n",
       "      <td>E</td>\n",
       "      <td>20101222</td>\n",
       "      <td>700</td>\n",
       "      <td>Ms. KILPATRICK of Michigan</td>\n",
       "      <td>Unknown</td>\n",
       "      <td>KILPATRICK</td>\n",
       "      <td>Michigan</td>\n",
       "      <td>F</td>\n",
       "      <td>52723</td>\n",
       "      <td>52755</td>\n",
       "      <td>12222010.txt</td>\n",
       "      <td>1251</td>\n",
       "      <td>221</td>\n",
       "    </tr>\n",
       "    <tr>\n",
       "      <th>5658402</th>\n",
       "      <td>1110179266</td>\n",
       "      <td>Madam Speaker. on rolicall No. 658. I was unav...</td>\n",
       "      <td>E</td>\n",
       "      <td>20101222</td>\n",
       "      <td>701</td>\n",
       "      <td>Mr. HELLER</td>\n",
       "      <td>Unknown</td>\n",
       "      <td>HELLER</td>\n",
       "      <td>Unknown</td>\n",
       "      <td>M</td>\n",
       "      <td>52761</td>\n",
       "      <td>52763</td>\n",
       "      <td>12222010.txt</td>\n",
       "      <td>109</td>\n",
       "      <td>19</td>\n",
       "    </tr>\n",
       "    <tr>\n",
       "      <th>5658403</th>\n",
       "      <td>1110179267</td>\n",
       "      <td>Madam Speaker. on rollcall No. 658 my flight w...</td>\n",
       "      <td>E</td>\n",
       "      <td>20101222</td>\n",
       "      <td>702</td>\n",
       "      <td>Mr. PAULSEN</td>\n",
       "      <td>Unknown</td>\n",
       "      <td>PAULSEN</td>\n",
       "      <td>Unknown</td>\n",
       "      <td>M</td>\n",
       "      <td>52769</td>\n",
       "      <td>52772</td>\n",
       "      <td>12222010.txt</td>\n",
       "      <td>121</td>\n",
       "      <td>23</td>\n",
       "    </tr>\n",
       "    <tr>\n",
       "      <th>5658404</th>\n",
       "      <td>1110179268</td>\n",
       "      <td>Madam Speaker. I wold like to submit the follo...</td>\n",
       "      <td>E</td>\n",
       "      <td>20101222</td>\n",
       "      <td>703</td>\n",
       "      <td>Mr. HALL of New York</td>\n",
       "      <td>Unknown</td>\n",
       "      <td>HALL</td>\n",
       "      <td>New York</td>\n",
       "      <td>M</td>\n",
       "      <td>52779</td>\n",
       "      <td>52860</td>\n",
       "      <td>12222010.txt</td>\n",
       "      <td>2952</td>\n",
       "      <td>446</td>\n",
       "    </tr>\n",
       "  </tbody>\n",
       "</table>\n",
       "<p>5658405 rows × 15 columns</p>\n",
       "</div>"
      ],
      "text/plain": [
       "          speech_id                                             speech  \\\n",
       "0         910000001  Mr. President. it is with deep regret that I a...   \n",
       "1         910000002  The Chair lays before the Senate the following...   \n",
       "2         910000003                (Edward E. Mansur) read as follows:   \n",
       "3         910000004  The Chair lays before the Senate the credentia...   \n",
       "4         910000005  The Senators to be sworn in will now present t...   \n",
       "...             ...                                                ...   \n",
       "5658400  1110179264  Madam Speaker. on rollcall Nos. 662 and 661. I...   \n",
       "5658401  1110179265  Madam Speaker. as I leave Congress as the peop...   \n",
       "5658402  1110179266  Madam Speaker. on rolicall No. 658. I was unav...   \n",
       "5658403  1110179267  Madam Speaker. on rollcall No. 658 my flight w...   \n",
       "5658404  1110179268  Madam Speaker. I wold like to submit the follo...   \n",
       "\n",
       "        chamber      date  number_within_file                     speaker  \\\n",
       "0             S  19690103                   1               Mr. MANSFIELD   \n",
       "1             S  19690103                   2          The VICE PRESIDENT   \n",
       "2             S  19690103                   3       The legislative clerk   \n",
       "3             S  19690103                   4          The VICE PRESIDENT   \n",
       "4             S  19690103                   5          The VICE PRESIDENT   \n",
       "...         ...       ...                 ...                         ...   \n",
       "5658400       E  20101222                 699                 Ms. GRANGER   \n",
       "5658401       E  20101222                 700  Ms. KILPATRICK of Michigan   \n",
       "5658402       E  20101222                 701                  Mr. HELLER   \n",
       "5658403       E  20101222                 702                 Mr. PAULSEN   \n",
       "5658404       E  20101222                 703        Mr. HALL of New York   \n",
       "\n",
       "        first_name   last_name     state   gender  line_start  line_end  \\\n",
       "0          Unknown   MANSFIELD   Unknown        M          62        72   \n",
       "1          Unknown     Unknown   Unknown  Special          75        84   \n",
       "2          Unknown     Unknown   Unknown  Special          85        86   \n",
       "3          Unknown     Unknown   Unknown  Special         258       271   \n",
       "4          Unknown     Unknown   Unknown  Special        1015      1021   \n",
       "...            ...         ...       ...      ...         ...       ...   \n",
       "5658400    Unknown     GRANGER   Unknown        F       52713     52716   \n",
       "5658401    Unknown  KILPATRICK  Michigan        F       52723     52755   \n",
       "5658402    Unknown      HELLER   Unknown        M       52761     52763   \n",
       "5658403    Unknown     PAULSEN   Unknown        M       52769     52772   \n",
       "5658404    Unknown        HALL  New York        M       52779     52860   \n",
       "\n",
       "                 file  char_count  word_count  \n",
       "0        01031969.txt         320          57  \n",
       "1        01031969.txt         315          50  \n",
       "2        01031969.txt          35           6  \n",
       "3        01031969.txt         443          78  \n",
       "4        01031969.txt         213          39  \n",
       "...               ...         ...         ...  \n",
       "5658400  12222010.txt         118          23  \n",
       "5658401  12222010.txt        1251         221  \n",
       "5658402  12222010.txt         109          19  \n",
       "5658403  12222010.txt         121          23  \n",
       "5658404  12222010.txt        2952         446  \n",
       "\n",
       "[5658405 rows x 15 columns]"
      ]
     },
     "execution_count": 7,
     "metadata": {},
     "output_type": "execute_result"
    }
   ],
   "source": [
    "all_data"
   ]
  },
  {
   "cell_type": "markdown",
   "metadata": {},
   "source": [
    "After reading our sample, we can transform it into a pandas series object for quicker processing. Please note that in doing so, we loose the \"subreddit\" column, which leaves us with just the text of the subreddits."
   ]
  },
  {
   "cell_type": "code",
   "execution_count": 8,
   "metadata": {},
   "outputs": [
    {
     "data": {
      "text/plain": [
       "20101222"
      ]
     },
     "execution_count": 8,
     "metadata": {},
     "output_type": "execute_result"
    }
   ],
   "source": [
    "max(all_data['date'])"
   ]
  },
  {
   "cell_type": "code",
   "execution_count": 9,
   "metadata": {},
   "outputs": [
    {
     "data": {
      "text/plain": [
       "19690103"
      ]
     },
     "execution_count": 9,
     "metadata": {},
     "output_type": "execute_result"
    }
   ],
   "source": [
    "min(all_data['date'])"
   ]
  },
  {
   "cell_type": "code",
   "execution_count": 10,
   "metadata": {},
   "outputs": [],
   "source": [
    "hyde_congress = all_data[(all_data.speaker == \"Mr. HYDE\")].copy()"
   ]
  },
  {
   "cell_type": "code",
   "execution_count": 11,
   "metadata": {},
   "outputs": [
    {
     "data": {
      "text/html": [
       "<div>\n",
       "<style scoped>\n",
       "    .dataframe tbody tr th:only-of-type {\n",
       "        vertical-align: middle;\n",
       "    }\n",
       "\n",
       "    .dataframe tbody tr th {\n",
       "        vertical-align: top;\n",
       "    }\n",
       "\n",
       "    .dataframe thead th {\n",
       "        text-align: right;\n",
       "    }\n",
       "</style>\n",
       "<table border=\"1\" class=\"dataframe\">\n",
       "  <thead>\n",
       "    <tr style=\"text-align: right;\">\n",
       "      <th></th>\n",
       "      <th>speech_id</th>\n",
       "      <th>speech</th>\n",
       "      <th>chamber</th>\n",
       "      <th>date</th>\n",
       "      <th>number_within_file</th>\n",
       "      <th>speaker</th>\n",
       "      <th>first_name</th>\n",
       "      <th>last_name</th>\n",
       "      <th>state</th>\n",
       "      <th>gender</th>\n",
       "      <th>line_start</th>\n",
       "      <th>line_end</th>\n",
       "      <th>file</th>\n",
       "      <th>char_count</th>\n",
       "      <th>word_count</th>\n",
       "    </tr>\n",
       "  </thead>\n",
       "  <tbody>\n",
       "    <tr>\n",
       "      <th>42536</th>\n",
       "      <td>910042537</td>\n",
       "      <td>Our proposal. of course. is subject to the rul...</td>\n",
       "      <td>H</td>\n",
       "      <td>19690617</td>\n",
       "      <td>581</td>\n",
       "      <td>Mr. HYDE</td>\n",
       "      <td>Unknown</td>\n",
       "      <td>HYDE</td>\n",
       "      <td>Unknown</td>\n",
       "      <td>M</td>\n",
       "      <td>37603</td>\n",
       "      <td>37610</td>\n",
       "      <td>06171969.txt</td>\n",
       "      <td>302</td>\n",
       "      <td>48</td>\n",
       "    </tr>\n",
       "    <tr>\n",
       "      <th>42538</th>\n",
       "      <td>910042539</td>\n",
       "      <td>Right. We have in our notice a possibility tha...</td>\n",
       "      <td>H</td>\n",
       "      <td>19690617</td>\n",
       "      <td>583</td>\n",
       "      <td>Mr. HYDE</td>\n",
       "      <td>Unknown</td>\n",
       "      <td>HYDE</td>\n",
       "      <td>Unknown</td>\n",
       "      <td>M</td>\n",
       "      <td>37612</td>\n",
       "      <td>37618</td>\n",
       "      <td>06171969.txt</td>\n",
       "      <td>259</td>\n",
       "      <td>44</td>\n",
       "    </tr>\n",
       "    <tr>\n",
       "      <th>42540</th>\n",
       "      <td>910042541</td>\n",
       "      <td>To establish regulations in the public interes...</td>\n",
       "      <td>H</td>\n",
       "      <td>19690617</td>\n",
       "      <td>585</td>\n",
       "      <td>Mr. HYDE</td>\n",
       "      <td>Unknown</td>\n",
       "      <td>HYDE</td>\n",
       "      <td>Unknown</td>\n",
       "      <td>M</td>\n",
       "      <td>37622</td>\n",
       "      <td>37625</td>\n",
       "      <td>06171969.txt</td>\n",
       "      <td>139</td>\n",
       "      <td>22</td>\n",
       "    </tr>\n",
       "    <tr>\n",
       "      <th>42542</th>\n",
       "      <td>910042543</td>\n",
       "      <td>It is our position that we would have legal au...</td>\n",
       "      <td>H</td>\n",
       "      <td>19690617</td>\n",
       "      <td>587</td>\n",
       "      <td>Mr. HYDE</td>\n",
       "      <td>Unknown</td>\n",
       "      <td>HYDE</td>\n",
       "      <td>Unknown</td>\n",
       "      <td>M</td>\n",
       "      <td>37630</td>\n",
       "      <td>37631</td>\n",
       "      <td>06171969.txt</td>\n",
       "      <td>79</td>\n",
       "      <td>15</td>\n",
       "    </tr>\n",
       "    <tr>\n",
       "      <th>42544</th>\n",
       "      <td>910042545</td>\n",
       "      <td>Well. we do not undertake in our shop to make ...</td>\n",
       "      <td>H</td>\n",
       "      <td>19690617</td>\n",
       "      <td>589</td>\n",
       "      <td>Mr. HYDE</td>\n",
       "      <td>Unknown</td>\n",
       "      <td>HYDE</td>\n",
       "      <td>Unknown</td>\n",
       "      <td>M</td>\n",
       "      <td>37640</td>\n",
       "      <td>37652</td>\n",
       "      <td>06171969.txt</td>\n",
       "      <td>468</td>\n",
       "      <td>81</td>\n",
       "    </tr>\n",
       "    <tr>\n",
       "      <th>...</th>\n",
       "      <td>...</td>\n",
       "      <td>...</td>\n",
       "      <td>...</td>\n",
       "      <td>...</td>\n",
       "      <td>...</td>\n",
       "      <td>...</td>\n",
       "      <td>...</td>\n",
       "      <td>...</td>\n",
       "      <td>...</td>\n",
       "      <td>...</td>\n",
       "      <td>...</td>\n",
       "      <td>...</td>\n",
       "      <td>...</td>\n",
       "      <td>...</td>\n",
       "      <td>...</td>\n",
       "    </tr>\n",
       "    <tr>\n",
       "      <th>5265305</th>\n",
       "      <td>1090185256</td>\n",
       "      <td>Mr. Speaker. I am pleased to yield 5 minutes t...</td>\n",
       "      <td>H</td>\n",
       "      <td>20061208</td>\n",
       "      <td>401</td>\n",
       "      <td>Mr. HYDE</td>\n",
       "      <td>Unknown</td>\n",
       "      <td>HYDE</td>\n",
       "      <td>Unknown</td>\n",
       "      <td>M</td>\n",
       "      <td>43123</td>\n",
       "      <td>43126</td>\n",
       "      <td>12082006.txt</td>\n",
       "      <td>123</td>\n",
       "      <td>23</td>\n",
       "    </tr>\n",
       "    <tr>\n",
       "      <th>5265317</th>\n",
       "      <td>1090185268</td>\n",
       "      <td>Mr. Speaker. I believe I have the right to clo...</td>\n",
       "      <td>H</td>\n",
       "      <td>20061208</td>\n",
       "      <td>413</td>\n",
       "      <td>Mr. HYDE</td>\n",
       "      <td>Unknown</td>\n",
       "      <td>HYDE</td>\n",
       "      <td>Unknown</td>\n",
       "      <td>M</td>\n",
       "      <td>43333</td>\n",
       "      <td>43336</td>\n",
       "      <td>12082006.txt</td>\n",
       "      <td>132</td>\n",
       "      <td>27</td>\n",
       "    </tr>\n",
       "    <tr>\n",
       "      <th>5265320</th>\n",
       "      <td>1090185271</td>\n",
       "      <td>Mr. Speaker. the arguments that have been made...</td>\n",
       "      <td>H</td>\n",
       "      <td>20061208</td>\n",
       "      <td>416</td>\n",
       "      <td>Mr. HYDE</td>\n",
       "      <td>Unknown</td>\n",
       "      <td>HYDE</td>\n",
       "      <td>Unknown</td>\n",
       "      <td>M</td>\n",
       "      <td>43431</td>\n",
       "      <td>43451</td>\n",
       "      <td>12082006.txt</td>\n",
       "      <td>714</td>\n",
       "      <td>124</td>\n",
       "    </tr>\n",
       "    <tr>\n",
       "      <th>5265328</th>\n",
       "      <td>1090185279</td>\n",
       "      <td>Mr. Speaker. I yield back the balance of my time.</td>\n",
       "      <td>H</td>\n",
       "      <td>20061208</td>\n",
       "      <td>424</td>\n",
       "      <td>Mr. HYDE</td>\n",
       "      <td>Unknown</td>\n",
       "      <td>HYDE</td>\n",
       "      <td>Unknown</td>\n",
       "      <td>M</td>\n",
       "      <td>43873</td>\n",
       "      <td>43874</td>\n",
       "      <td>12082006.txt</td>\n",
       "      <td>49</td>\n",
       "      <td>10</td>\n",
       "    </tr>\n",
       "    <tr>\n",
       "      <th>5515891</th>\n",
       "      <td>1110036754</td>\n",
       "      <td>Mr. Speaker. I rise in support of the Conferen...</td>\n",
       "      <td>H</td>\n",
       "      <td>20090505</td>\n",
       "      <td>162</td>\n",
       "      <td>Mr. HYDE</td>\n",
       "      <td>Unknown</td>\n",
       "      <td>HYDE</td>\n",
       "      <td>Unknown</td>\n",
       "      <td>M</td>\n",
       "      <td>10272</td>\n",
       "      <td>10350</td>\n",
       "      <td>05052009.txt</td>\n",
       "      <td>2797</td>\n",
       "      <td>437</td>\n",
       "    </tr>\n",
       "  </tbody>\n",
       "</table>\n",
       "<p>7480 rows × 15 columns</p>\n",
       "</div>"
      ],
      "text/plain": [
       "          speech_id                                             speech  \\\n",
       "42536     910042537  Our proposal. of course. is subject to the rul...   \n",
       "42538     910042539  Right. We have in our notice a possibility tha...   \n",
       "42540     910042541  To establish regulations in the public interes...   \n",
       "42542     910042543  It is our position that we would have legal au...   \n",
       "42544     910042545  Well. we do not undertake in our shop to make ...   \n",
       "...             ...                                                ...   \n",
       "5265305  1090185256  Mr. Speaker. I am pleased to yield 5 minutes t...   \n",
       "5265317  1090185268  Mr. Speaker. I believe I have the right to clo...   \n",
       "5265320  1090185271  Mr. Speaker. the arguments that have been made...   \n",
       "5265328  1090185279  Mr. Speaker. I yield back the balance of my time.   \n",
       "5515891  1110036754  Mr. Speaker. I rise in support of the Conferen...   \n",
       "\n",
       "        chamber      date  number_within_file   speaker first_name last_name  \\\n",
       "42536         H  19690617                 581  Mr. HYDE    Unknown      HYDE   \n",
       "42538         H  19690617                 583  Mr. HYDE    Unknown      HYDE   \n",
       "42540         H  19690617                 585  Mr. HYDE    Unknown      HYDE   \n",
       "42542         H  19690617                 587  Mr. HYDE    Unknown      HYDE   \n",
       "42544         H  19690617                 589  Mr. HYDE    Unknown      HYDE   \n",
       "...         ...       ...                 ...       ...        ...       ...   \n",
       "5265305       H  20061208                 401  Mr. HYDE    Unknown      HYDE   \n",
       "5265317       H  20061208                 413  Mr. HYDE    Unknown      HYDE   \n",
       "5265320       H  20061208                 416  Mr. HYDE    Unknown      HYDE   \n",
       "5265328       H  20061208                 424  Mr. HYDE    Unknown      HYDE   \n",
       "5515891       H  20090505                 162  Mr. HYDE    Unknown      HYDE   \n",
       "\n",
       "           state gender  line_start  line_end          file  char_count  \\\n",
       "42536    Unknown      M       37603     37610  06171969.txt         302   \n",
       "42538    Unknown      M       37612     37618  06171969.txt         259   \n",
       "42540    Unknown      M       37622     37625  06171969.txt         139   \n",
       "42542    Unknown      M       37630     37631  06171969.txt          79   \n",
       "42544    Unknown      M       37640     37652  06171969.txt         468   \n",
       "...          ...    ...         ...       ...           ...         ...   \n",
       "5265305  Unknown      M       43123     43126  12082006.txt         123   \n",
       "5265317  Unknown      M       43333     43336  12082006.txt         132   \n",
       "5265320  Unknown      M       43431     43451  12082006.txt         714   \n",
       "5265328  Unknown      M       43873     43874  12082006.txt          49   \n",
       "5515891  Unknown      M       10272     10350  05052009.txt        2797   \n",
       "\n",
       "         word_count  \n",
       "42536            48  \n",
       "42538            44  \n",
       "42540            22  \n",
       "42542            15  \n",
       "42544            81  \n",
       "...             ...  \n",
       "5265305          23  \n",
       "5265317          27  \n",
       "5265320         124  \n",
       "5265328          10  \n",
       "5515891         437  \n",
       "\n",
       "[7480 rows x 15 columns]"
      ]
     },
     "execution_count": 11,
     "metadata": {},
     "output_type": "execute_result"
    }
   ],
   "source": [
    "hyde_congress"
   ]
  },
  {
   "cell_type": "code",
   "execution_count": 12,
   "metadata": {},
   "outputs": [],
   "source": [
    "hyde_congress = hyde_congress['speech'].copy()"
   ]
  },
  {
   "cell_type": "code",
   "execution_count": 13,
   "metadata": {},
   "outputs": [
    {
     "data": {
      "text/plain": [
       "42536      Our proposal. of course. is subject to the rul...\n",
       "42538      Right. We have in our notice a possibility tha...\n",
       "42540      To establish regulations in the public interes...\n",
       "42542      It is our position that we would have legal au...\n",
       "42544      Well. we do not undertake in our shop to make ...\n",
       "                                 ...                        \n",
       "5265305    Mr. Speaker. I am pleased to yield 5 minutes t...\n",
       "5265317    Mr. Speaker. I believe I have the right to clo...\n",
       "5265320    Mr. Speaker. the arguments that have been made...\n",
       "5265328    Mr. Speaker. I yield back the balance of my time.\n",
       "5515891    Mr. Speaker. I rise in support of the Conferen...\n",
       "Name: speech, Length: 7480, dtype: object"
      ]
     },
     "execution_count": 13,
     "metadata": {},
     "output_type": "execute_result"
    }
   ],
   "source": [
    "hyde_congress"
   ]
  },
  {
   "cell_type": "markdown",
   "metadata": {},
   "source": [
    "### Parsing Text with spaCy"
   ]
  },
  {
   "cell_type": "markdown",
   "metadata": {},
   "source": [
    "As demonstrated in [Klein's Notebook](https://github.com/laurenfklein/emory-qtm340/blob/master/notebooks/class11-nlp-spacy-complete.ipynb), invoking `nlp` on a string of text will return a processed `Doc` object. Within each `Doc` object is a spaCy `token` object. From these `token` objects we can access a word's lemmatized form, its part-of-speech, and other attributes.\n",
    "\n",
    "Unlike Klein's data, however, ours is in a series object where each row is a string of text. We must iterate through each row of the data frame with `nlp.pipe()`, which processes the data in small batches. To improve parsing time we can disable features that we will not use for this exercise like named entity recognition (or `ent`)."
   ]
  },
  {
   "cell_type": "code",
   "execution_count": 14,
   "metadata": {},
   "outputs": [
    {
     "name": "stdout",
     "output_type": "stream",
     "text": [
      "CPU times: user 1min 24s, sys: 20.1 s, total: 1min 45s\n",
      "Wall time: 1min 45s\n"
     ]
    }
   ],
   "source": [
    "%%time\n",
    "hyde_congress = list(nlp.pipe(hyde_congress, disable = [\"ent\"]))"
   ]
  },
  {
   "cell_type": "code",
   "execution_count": 15,
   "metadata": {},
   "outputs": [
    {
     "data": {
      "text/plain": [
       "[Our proposal. of course. is subject to the rulemaking notice and subject to our consideration of comments that may be submitted by interested parties and subject. of course. to any action that Congress might take. The proposal would preclude the advertising of cigarettes on either radio or television.,\n",
       " Right. We have in our notice a possibility that some advertising regarding nicotine and tar content might be appropriate but that Is just in the notice for the advice of interested parties. The overall proposal is to bar cigarette advertising on radio and TV.,\n",
       " To establish regulations in the public interest and our basic theory is that these regulations would be justified to protect public health.,\n",
       " It is our position that we would have legal authority to prescribe such a rule.,\n",
       " Well. we do not undertake in our shop to make judgments on this. We rely entirely on the findings of the reports of the Departments of Health. Education. and Welfare. Federal Trade. and the Surgeon General. Of course. we do cite in our notice of proposed rulemaking the statistics which have been issued by the departments. that there are 50.000 deaths a year from lung cancer. and the department says that the most important cause of lung cancer is cigarette smoking.,\n",
       " We base our ruling on the findings of the Department of Health. Education. and Welfare and it does give figures along the lines which I have just mentioned.,\n",
       " We have the information that was published by the department and under the title of \"General Mortality Information\" there is a findingthis is in the 1967 report: \"In addition evidence herein presented shows that life expectancy among young men is reduced by an average of eight years in \"heavy\" cigarette smokers. those who smoke over two packs a day and an average of four years in \"light cigarette smokers. those who smoke less than onehalf pack per day.\",\n",
       " I think we have here a unique situation. The Commission must make a finding when it issues a license for the operation of a TV or radio station that such operation will be in the public interest. I would suggest there is nothing that has a more clear and important bearing on public interest than public health. Now. when the Commission is on notice of a finding by these several agencies of Government that cigarette smoking is a hazard to health in terms which they have mentioned. we just cannot ignore that.]"
      ]
     },
     "execution_count": 15,
     "metadata": {},
     "output_type": "execute_result"
    }
   ],
   "source": [
    "hyde_congress[:8]"
   ]
  },
  {
   "cell_type": "markdown",
   "metadata": {},
   "source": [
    "`reddit_sample_he_she_text` looks just like any other list, but it is actually a spaCy `doc` object where every word is a spaCy `token` object. We will explore the objects' attributes in the following section. "
   ]
  },
  {
   "cell_type": "markdown",
   "metadata": {},
   "source": [
    "### Processing spaCy `token` Objects for Part-of-Speech Extraction"
   ]
  },
  {
   "cell_type": "markdown",
   "metadata": {},
   "source": [
    "For our analysis, we are just interested in the spaCy `token` objects inside the `doc` object. The `token` objects include attributes such as:\n",
    "\n",
    " - `.text`: the original word\n",
    " - `.lemma_`: the word's lemmatized form\n",
    " - `.pos_`: the word's part-of-speech\n",
    " - `.dep_`: the word's syntactic dependency\n",
    " - `.head.text`: the word upon which the present word is dependent\n",
    "\n",
    "These attributes can be viewed by iterating through each `doc` object like the following code:"
   ]
  },
  {
   "cell_type": "code",
   "execution_count": 16,
   "metadata": {},
   "outputs": [],
   "source": [
    "def extractTokens(spacy_doc_object):\n",
    "    spacy_tokens = []\n",
    "    for doc in spacy_doc_object:\n",
    "        for token in doc:\n",
    "            row = (token.text, token.lemma_, token.pos_, token.dep_, token.head.text)\n",
    "            spacy_tokens.append(row)\n",
    "    return spacy_tokens\n",
    "\n",
    "congress_tokens = extractTokens(hyde_congress)"
   ]
  },
  {
   "cell_type": "code",
   "execution_count": 17,
   "metadata": {},
   "outputs": [
    {
     "data": {
      "text/plain": [
       "[('Our', '-PRON-', 'DET', 'poss', 'proposal'),\n",
       " ('proposal', 'proposal', 'NOUN', 'ROOT', 'proposal'),\n",
       " ('.', '.', 'PUNCT', 'punct', 'proposal'),\n",
       " ('of', 'of', 'ADV', 'advmod', 'course'),\n",
       " ('course', 'course', 'ADV', 'ROOT', 'course'),\n",
       " ('.', '.', 'PUNCT', 'punct', 'course'),\n",
       " ('is', 'be', 'AUX', 'ROOT', 'is'),\n",
       " ('subject', 'subject', 'ADJ', 'acomp', 'is'),\n",
       " ('to', 'to', 'ADP', 'prep', 'subject'),\n",
       " ('the', 'the', 'DET', 'det', 'notice'),\n",
       " ('rulemaking', 'rulemake', 'VERB', 'compound', 'notice'),\n",
       " ('notice', 'notice', 'NOUN', 'pobj', 'to'),\n",
       " ('and', 'and', 'CCONJ', 'cc', 'notice'),\n",
       " ('subject', 'subject', 'ADJ', 'conj', 'notice'),\n",
       " ('to', 'to', 'ADP', 'prep', 'subject'),\n",
       " ('our', '-PRON-', 'DET', 'poss', 'consideration'),\n",
       " ('consideration', 'consideration', 'NOUN', 'pobj', 'to'),\n",
       " ('of', 'of', 'ADP', 'prep', 'consideration'),\n",
       " ('comments', 'comment', 'NOUN', 'pobj', 'of'),\n",
       " ('that', 'that', 'DET', 'nsubjpass', 'submitted'),\n",
       " ('may', 'may', 'VERB', 'aux', 'submitted'),\n",
       " ('be', 'be', 'AUX', 'auxpass', 'submitted'),\n",
       " ('submitted', 'submit', 'VERB', 'relcl', 'comments'),\n",
       " ('by', 'by', 'ADP', 'agent', 'submitted'),\n",
       " ('interested', 'interested', 'ADJ', 'amod', 'parties'),\n",
       " ('parties', 'party', 'NOUN', 'pobj', 'by'),\n",
       " ('and', 'and', 'CCONJ', 'cc', 'submitted'),\n",
       " ('subject', 'subject', 'NOUN', 'conj', 'submitted'),\n",
       " ('.', '.', 'PUNCT', 'punct', 'is'),\n",
       " ('of', 'of', 'ADV', 'advmod', 'course')]"
      ]
     },
     "execution_count": 17,
     "metadata": {},
     "output_type": "execute_result"
    }
   ],
   "source": [
    "congress_tokens[:30]"
   ]
  },
  {
   "cell_type": "markdown",
   "metadata": {},
   "source": [
    "Before continuing, let's take a moment to observe the output of `reddit_tokens`.\n",
    "\n",
    "`reddit_tokens` is split into one token per row. Alongside each token is: a) the token, b) the token's lemmatized form, c) the tokens part-of-speech, d) the token's syntactic function, and e) the token's \"head\", or the token to which it syntactically depends."
   ]
  },
  {
   "cell_type": "markdown",
   "metadata": {},
   "source": [
    "### Extracting Parts-of-Speech from Parsed Reddit Text"
   ]
  },
  {
   "cell_type": "markdown",
   "metadata": {},
   "source": [
    "Now we can begin extracting grammatical parts-of-speech for the purpose of looking for language trends. The following code extracts grammatical pairs where the subject is tagged as a noun subject or passive noun subject, and is also a \"child\" of a verb. \n",
    "\n",
    "The verb is lemmatized to prevent counting inflectional verbs separately from their base form."
   ]
  },
  {
   "cell_type": "code",
   "execution_count": 18,
   "metadata": {},
   "outputs": [],
   "source": [
    "from spacy.symbols import nsubj, nsubjpass, VERB\n",
    "\n",
    "def extractPairs(spacy_doc_object):\n",
    "    pairs = []\n",
    "    for doc in spacy_doc_object:\n",
    "        for subject in doc:\n",
    "            if subject.dep == nsubj or subject.dep == nsubjpass and subject.head.pos == VERB:\n",
    "                extracted_pairs = subject.text, subject.head.lemma_\n",
    "                concat_extracted_pairs = ' '.join(extracted_pairs)\n",
    "                pairs.append(str(concat_extracted_pairs))\n",
    "    return pairs\n",
    "\n",
    "pairs = extractPairs(hyde_congress)"
   ]
  },
  {
   "cell_type": "code",
   "execution_count": 19,
   "metadata": {},
   "outputs": [
    {
     "data": {
      "text/plain": [
       "['that submit',\n",
       " 'Congress take',\n",
       " 'proposal preclude',\n",
       " 'We have',\n",
       " 'advertising be',\n",
       " 'that be',\n",
       " 'proposal be',\n",
       " 'theory be',\n",
       " 'regulations justify',\n",
       " 'It be',\n",
       " 'we have',\n",
       " 'we undertake',\n",
       " 'We rely',\n",
       " 'we cite',\n",
       " 'which issue',\n",
       " 'department say',\n",
       " 'cause be',\n",
       " 'We base',\n",
       " 'Welfare give',\n",
       " 'it give',\n",
       " 'I mention',\n",
       " 'We have',\n",
       " 'that publish',\n",
       " 'herein present',\n",
       " 'expectancy reduce',\n",
       " 'who smoke',\n",
       " 'who smoke',\n",
       " 'I think',\n",
       " 'we have',\n",
       " 'Commission make']"
      ]
     },
     "execution_count": 19,
     "metadata": {},
     "output_type": "execute_result"
    }
   ],
   "source": [
    "pairs[:30]"
   ]
  },
  {
   "cell_type": "markdown",
   "metadata": {},
   "source": [
    "`pairs` is a list subjects followed by verbs."
   ]
  },
  {
   "cell_type": "markdown",
   "metadata": {},
   "source": [
    "For the sake of counting and matching with words regardless of case, we can transform all words to lower case."
   ]
  },
  {
   "cell_type": "code",
   "execution_count": 20,
   "metadata": {},
   "outputs": [],
   "source": [
    "lowercase_pairs = [word.lower() for word in pairs]"
   ]
  },
  {
   "cell_type": "code",
   "execution_count": 21,
   "metadata": {},
   "outputs": [
    {
     "data": {
      "text/plain": [
       "['that submit',\n",
       " 'congress take',\n",
       " 'proposal preclude',\n",
       " 'we have',\n",
       " 'advertising be',\n",
       " 'that be',\n",
       " 'proposal be',\n",
       " 'theory be',\n",
       " 'regulations justify',\n",
       " 'it be',\n",
       " 'we have',\n",
       " 'we undertake',\n",
       " 'we rely',\n",
       " 'we cite',\n",
       " 'which issue',\n",
       " 'department say',\n",
       " 'cause be',\n",
       " 'we base',\n",
       " 'welfare give',\n",
       " 'it give',\n",
       " 'i mention',\n",
       " 'we have',\n",
       " 'that publish',\n",
       " 'herein present',\n",
       " 'expectancy reduce',\n",
       " 'who smoke',\n",
       " 'who smoke',\n",
       " 'i think',\n",
       " 'we have',\n",
       " 'commission make']"
      ]
     },
     "execution_count": 21,
     "metadata": {},
     "output_type": "execute_result"
    }
   ],
   "source": [
    "lowercase_pairs[:30]"
   ]
  },
  {
   "cell_type": "markdown",
   "metadata": {},
   "source": [
    "<div class=\"alert alert-block alert-info\">\n",
    "Remember to capitalize I before turning in your paper.\n",
    "</div>"
   ]
  },
  {
   "cell_type": "markdown",
   "metadata": {},
   "source": [
    "We can narrow these results to just pairs containing gendered pronouns for the purpose of exploring our guiding question: what kinds of actions are associated with male and female pronouns in the decade 1870?"
   ]
  },
  {
   "cell_type": "markdown",
   "metadata": {},
   "source": [
    "### Filtering for Gendered Pronoun-Verb Pairs"
   ]
  },
  {
   "cell_type": "markdown",
   "metadata": {},
   "source": [
    "The goal of this Notebook is to extract gendered pronoun-verb pairs and create visualizations that compare male pronoun-verb pairs and female pronoun-verb pairs. First, however, we will just extract pairs with the pronoun he.\n",
    "\n",
    "We can search for \"he\" and its grammatical verbs by treating \"he\" as a regular expression (or sequence of characters that define a search pattern). The following code defines our regular expression, `('he ')`, and creates a variable for each pair that contains a match."
   ]
  },
  {
   "cell_type": "code",
   "execution_count": 27,
   "metadata": {},
   "outputs": [],
   "source": [
    "import re\n",
    "\n",
    "def extractMalePairs(pairs):\n",
    "    regex = re.compile('he ')\n",
    "    male = [word for word in lowercase_pairs if regex.match(word)]\n",
    "    return male\n",
    "\n",
    "male = extractMalePairs(lowercase_pairs)"
   ]
  },
  {
   "cell_type": "code",
   "execution_count": 28,
   "metadata": {},
   "outputs": [
    {
     "data": {
      "text/plain": [
       "['he add',\n",
       " 'he say',\n",
       " 'he be',\n",
       " 'he forego',\n",
       " 'he give',\n",
       " 'he come',\n",
       " 'he exult',\n",
       " 'he be',\n",
       " 'he make',\n",
       " 'he emphasize',\n",
       " 'he will',\n",
       " 'he implement',\n",
       " 'he say',\n",
       " 'he say',\n",
       " 'he go',\n",
       " 'he protect',\n",
       " 'he protect',\n",
       " 'he have',\n",
       " 'he show',\n",
       " 'he get',\n",
       " 'he become',\n",
       " 'he arrest',\n",
       " 'he say',\n",
       " 'he intend',\n",
       " 'he be',\n",
       " 'he have',\n",
       " 'he intend',\n",
       " 'he elect',\n",
       " 'he be',\n",
       " 'he be']"
      ]
     },
     "execution_count": 28,
     "metadata": {},
     "output_type": "execute_result"
    }
   ],
   "source": [
    "male[:30]"
   ]
  },
  {
   "cell_type": "markdown",
   "metadata": {},
   "source": [
    "Viewing just the first 30 lines of our lists shows us that our gendered pronoun-verb pairs contain stop words like be or say. Pairs containing a stop word can be removed. \n",
    "\n",
    "We can do this by first defining our stop words . . . "
   ]
  },
  {
   "cell_type": "code",
   "execution_count": 29,
   "metadata": {},
   "outputs": [],
   "source": [
    "stopwords = ['right', 'hon', 'general', 'mr', 'shall', 'majesty', 'exchequer', 'address', 'motion', 'bill',\n",
    "             'earl', 'friend', 'chancellor', 'sense', 'object', 'suppose', 'amidst', 'noble', 'lord', 'agree',\n",
    "             'speech', 'kind', 'january', 'february', 'march', 'april', 'may', 'june', 'july', 'august', 'september',\n",
    "             'october', 'november', 'december', 'order', 'held', 'hold', 'assembly', '£', 'humble', 'about', 'above',\n",
    "             'across', 'address', 'after', 'afterwards', 'again', 'against', 'agree', 'all', 'almost', 'alone', 'along',\n",
    "             'already', 'also', 'although', 'always', 'am', 'amidst', 'among', 'amongst', 'amount', 'an', 'and', 'another',\n",
    "             'any', 'anyhow', 'anything', 'anyway', 'anywhere', 'april', 'are', 'around', 'as', 'at', 'back', 'be', 'was',\n",
    "             'becames', 'because', 'become', 'becomes', 'becoming', 'been', 'before', 'beforehand', 'behind', 'being',\n",
    "             'beside', 'besides', 'between', 'beyond', 'both', 'bottom', 'but', 'by', 'call', 'can', 'cannot', 'do',\n",
    "             'could', 'did', 'does', 'doing', 'done', 'down', 'due', 'during', 'each', 'either', 'else', 'elsewhere',\n",
    "             'empty', 'enough', 'even', 'ever', 'everyone', 'everything', 'everywhere', 'except', 'few', 'first', 'for',\n",
    "             'from', 'front', 'full', 'further', 'general', 'get', 'give', 'go', 'had', 'has', 'have', 'held', 'hence',\n",
    "             'here', 'hereby', 'herein', 'hold', 'however', 'if', 'in', 'indeed', 'into', 'is', 'it', 'its', 'itself',\n",
    "             'just', 'keep', 'kind', 'last', 'latter', 'least', 'less', 'made', 'make', 'many', 'me', 'meanwhile', 'might',\n",
    "             'mine', 'more', 'most', 'mostly', 'move', 'much', 'must', 'name,' 'neither', 'never', 'nevertheless', 'next',\n",
    "             'no', 'noble', 'nobody', 'none', 'nor', 'nothing', 'now', 'nowhere', 'of', 'off', 'often', 'on', 'one', 'once',\n",
    "             'only', 'onto', 'or', 'other', 'others', 'otherwise', 'out', 'over', 'own', 'part', 'perhaps', 'please', 'put',\n",
    "             'quite', 'rather', 'really', 'regarding', 'same', 'say', 'see', 'seem', 'seemed', 'seeming', 'seems', 'sense',\n",
    "             'several', 'shall', 'should', 'show', 'side', 'since', 'so', 'some', 'someone', 'something', 'sometime',\n",
    "             'still', 'such', 'suppose', 'take', 'than', 'that', 'the', 'then', 'there', 'thereby', 'therefore', 'these',\n",
    "             'they', 'this', 'those', 'though', 'thus', 'to', 'together', 'too', 'top', 'toward', 'towards', 'under',\n",
    "             'unless', 'until', 'up', 'upon', 'us', 'used', 'using', 'various', 'very', 'was', 'we', 'well', 'were', 'what',\n",
    "             'whatever', 'when', 'when', 'whereby', 'whether', 'which', 'while', 'who', 'why', 'will', 'with', 'within',\n",
    "             'without', 'would', 'yet', 'bright', 'mr.', 'hansard', 'lancashire', '[]', '£1', '000', 'russell', 'committee',\n",
    "             'reading', 'learned', 'deal', 'time', 'royal', 'gentlemen', 'gentleman', 'year', 'years', 'affairs', 'affair',\n",
    "             'academy', 'sir', 'thought', 'took', 'bring', 'brings', 'brought', 'forward', 'great', 'good', 'department',\n",
    "             'treasury', 'second', 'take', 'taken', 'privy', 'member', 'robert', 'large', 'session', 'secretary', 'notice',\n",
    "             'moment', 'think', 'believe', 'hope', 'ask', 'hear', 'beg', 'support', 'state', 'find', 'admit', 'wish',\n",
    "             'refer', 'reply', 'know', 'feel', 'propose', 'understand', 'let', 'allow', 'like', 'receive', 'consider',\n",
    "             'begin', 'tell', 'like', 'send', 'ought', 'come', 'intend', 'add', 'want', 'stand', 'suggest', 'remind',\n",
    "             'use', 'mean', 'suggest', 's','manner','manager','mandate','manipulation','manufacturer','manufacture', 'maneuvering',\n",
    "             'management','manifestation','manoeuvre','maneuver','manuevering']"
   ]
  },
  {
   "cell_type": "markdown",
   "metadata": {},
   "source": [
    ". . . and then matching this list with our pairs to see whether any tokens match a stop word.\n",
    "\n",
    "The following code removes stop words by a) splitting the pair into individual tokens, b) creating a variable, `tokens_filtered` for just words that do not match a stop word, and c) joining indiviudal words back together to make a pair."
   ]
  },
  {
   "cell_type": "code",
   "execution_count": 30,
   "metadata": {},
   "outputs": [],
   "source": [
    "tokens_joined = []\n",
    "\n",
    "for pair in male:\n",
    "    tokens = pair.split(\" \")\n",
    "    tokens_filtered = [word for word in tokens if not word in stopwords]\n",
    "    tokens = \" \".join(tokens_filtered)\n",
    "    tokens_joined.append(str(tokens))"
   ]
  },
  {
   "cell_type": "code",
   "execution_count": 31,
   "metadata": {},
   "outputs": [
    {
     "data": {
      "text/plain": [
       "['he',\n",
       " 'he',\n",
       " 'he',\n",
       " 'he forego',\n",
       " 'he',\n",
       " 'he',\n",
       " 'he exult',\n",
       " 'he',\n",
       " 'he',\n",
       " 'he emphasize',\n",
       " 'he',\n",
       " 'he implement',\n",
       " 'he',\n",
       " 'he',\n",
       " 'he',\n",
       " 'he protect',\n",
       " 'he protect',\n",
       " 'he',\n",
       " 'he',\n",
       " 'he',\n",
       " 'he',\n",
       " 'he arrest',\n",
       " 'he',\n",
       " 'he',\n",
       " 'he',\n",
       " 'he',\n",
       " 'he',\n",
       " 'he elect',\n",
       " 'he',\n",
       " 'he']"
      ]
     },
     "execution_count": 31,
     "metadata": {},
     "output_type": "execute_result"
    }
   ],
   "source": [
    "tokens_joined[:30]"
   ]
  },
  {
   "cell_type": "markdown",
   "metadata": {},
   "source": [
    "We have a problem, however. After joining the individual words we are left with messy data: some strings only have one word because the other word was removed. \n",
    "\n",
    "We can remove these individual tokens by writing a line of logic that only keeps strings that are the length of two (i.e. strings that are pairs). "
   ]
  },
  {
   "cell_type": "code",
   "execution_count": 32,
   "metadata": {},
   "outputs": [],
   "source": [
    "def removeStopWords(pairs):\n",
    "    keep_pairs = []\n",
    "    for pair in pairs:\n",
    "        tokens = pair.split(\" \")\n",
    "        tokens_filtered = [word for word in tokens if not word in stopwords]\n",
    "        joined_tokens = \" \".join(tokens_filtered)\n",
    "        if len(tokens_filtered) == 2: # if string is length of two\n",
    "            keep_pairs.append(str(joined_tokens)) # keep the string\n",
    "    return keep_pairs\n",
    "\n",
    "male_no_stopwords = removeStopWords(male)"
   ]
  },
  {
   "cell_type": "code",
   "execution_count": 33,
   "metadata": {},
   "outputs": [
    {
     "data": {
      "text/plain": [
       "['he forego',\n",
       " 'he exult',\n",
       " 'he emphasize',\n",
       " 'he implement',\n",
       " 'he protect',\n",
       " 'he protect',\n",
       " 'he arrest',\n",
       " 'he elect',\n",
       " 'he impose',\n",
       " 'he yield',\n",
       " 'he involve',\n",
       " 'he hit',\n",
       " 'he join',\n",
       " 'he nominate',\n",
       " 'he graduate',\n",
       " 'he isolate',\n",
       " 'he cite',\n",
       " 'he honor',\n",
       " 'he serve',\n",
       " 'he associate',\n",
       " 'he possess',\n",
       " 'he exemplify',\n",
       " 'he leave',\n",
       " 'he work',\n",
       " 'he associate',\n",
       " 'he perform',\n",
       " 'he earn',\n",
       " 'he win',\n",
       " 'he hospitalize',\n",
       " 'he note']"
      ]
     },
     "execution_count": 33,
     "metadata": {},
     "output_type": "execute_result"
    }
   ],
   "source": [
    "male_no_stopwords[:30]"
   ]
  },
  {
   "cell_type": "markdown",
   "metadata": {},
   "source": [
    "### Counting Gendered Pronoun-Verb Pairs"
   ]
  },
  {
   "cell_type": "markdown",
   "metadata": {},
   "source": [
    "After aggregating gendered pronouns that syntactically depend on a verb, we can count their frequency.\n",
    "\n",
    "The following code defines a function, `countWords()`, that creates a dictionary of every unique pair and its frequency. Any pair not already in the dictionary is added. If the pair is already part of the dictionary its count increments by 1."
   ]
  },
  {
   "cell_type": "code",
   "execution_count": 34,
   "metadata": {},
   "outputs": [],
   "source": [
    "def countWords(clean_data):\n",
    "    ngrams_dict = {}\n",
    "    for ngram in clean_data:\n",
    "        if ngram in ngrams_dict:\n",
    "            ngrams_dict[ngram] += 1\n",
    "        else:\n",
    "            ngrams_dict[ngram] = 1\n",
    "    return ngrams_dict\n",
    "            \n",
    "male_dictionary = countWords(male_no_stopwords)"
   ]
  },
  {
   "cell_type": "code",
   "execution_count": 35,
   "metadata": {
    "scrolled": true
   },
   "outputs": [
    {
     "name": "stdout",
     "output_type": "stream",
     "text": [
      "he forego 1\n",
      "he exult 1\n",
      "he emphasize 1\n",
      "he implement 1\n",
      "he protect 3\n",
      "he arrest 4\n",
      "he elect 4\n",
      "he impose 2\n",
      "he yield 5\n",
      "he involve 4\n",
      "he hit 2\n",
      "he join 11\n",
      "he nominate 1\n",
      "he graduate 5\n",
      "he isolate 2\n",
      "he cite 3\n",
      "he honor 4\n",
      "he serve 45\n",
      "he associate 2\n",
      "he possess 6\n",
      "he exemplify 1\n",
      "he leave 15\n",
      "he work 10\n",
      "he perform 11\n",
      "he earn 5\n",
      "he win 7\n",
      "he hospitalize 1\n",
      "he note 5\n",
      "he represent 6\n",
      "he write 14\n"
     ]
    }
   ],
   "source": [
    "for kv in list(male_dictionary)[:30]:\n",
    "    print(kv,  male_dictionary[kv])"
   ]
  },
  {
   "cell_type": "markdown",
   "metadata": {},
   "source": [
    "Dictionaries do not store data in sequential order. This is because a dictionary is \"hashable,\" and not linear like a list. While this makes dictionaries quick to process, its organization is not conducive to analysis.\n",
    "\n",
    "Therefore, we will cast the pronoun-verb pairs and their counts to a pandas DataFrame."
   ]
  },
  {
   "cell_type": "code",
   "execution_count": 36,
   "metadata": {},
   "outputs": [],
   "source": [
    "male_pronoun_verb_counts = pd.DataFrame(male_dictionary.items(),columns = ['Pair','Count'])"
   ]
  },
  {
   "cell_type": "code",
   "execution_count": 37,
   "metadata": {},
   "outputs": [
    {
     "data": {
      "text/html": [
       "<div>\n",
       "<style scoped>\n",
       "    .dataframe tbody tr th:only-of-type {\n",
       "        vertical-align: middle;\n",
       "    }\n",
       "\n",
       "    .dataframe tbody tr th {\n",
       "        vertical-align: top;\n",
       "    }\n",
       "\n",
       "    .dataframe thead th {\n",
       "        text-align: right;\n",
       "    }\n",
       "</style>\n",
       "<table border=\"1\" class=\"dataframe\">\n",
       "  <thead>\n",
       "    <tr style=\"text-align: right;\">\n",
       "      <th></th>\n",
       "      <th>Pair</th>\n",
       "      <th>Count</th>\n",
       "    </tr>\n",
       "  </thead>\n",
       "  <tbody>\n",
       "    <tr>\n",
       "      <th>0</th>\n",
       "      <td>he forego</td>\n",
       "      <td>1</td>\n",
       "    </tr>\n",
       "    <tr>\n",
       "      <th>1</th>\n",
       "      <td>he exult</td>\n",
       "      <td>1</td>\n",
       "    </tr>\n",
       "    <tr>\n",
       "      <th>2</th>\n",
       "      <td>he emphasize</td>\n",
       "      <td>1</td>\n",
       "    </tr>\n",
       "    <tr>\n",
       "      <th>3</th>\n",
       "      <td>he implement</td>\n",
       "      <td>1</td>\n",
       "    </tr>\n",
       "    <tr>\n",
       "      <th>4</th>\n",
       "      <td>he protect</td>\n",
       "      <td>3</td>\n",
       "    </tr>\n",
       "    <tr>\n",
       "      <th>...</th>\n",
       "      <td>...</td>\n",
       "      <td>...</td>\n",
       "    </tr>\n",
       "    <tr>\n",
       "      <th>463</th>\n",
       "      <td>he cede</td>\n",
       "      <td>1</td>\n",
       "    </tr>\n",
       "    <tr>\n",
       "      <th>464</th>\n",
       "      <td>he commission</td>\n",
       "      <td>1</td>\n",
       "    </tr>\n",
       "    <tr>\n",
       "      <th>465</th>\n",
       "      <td>he invade</td>\n",
       "      <td>1</td>\n",
       "    </tr>\n",
       "    <tr>\n",
       "      <th>466</th>\n",
       "      <td>he postpone</td>\n",
       "      <td>1</td>\n",
       "    </tr>\n",
       "    <tr>\n",
       "      <th>467</th>\n",
       "      <td>he harbor</td>\n",
       "      <td>1</td>\n",
       "    </tr>\n",
       "  </tbody>\n",
       "</table>\n",
       "<p>468 rows × 2 columns</p>\n",
       "</div>"
      ],
      "text/plain": [
       "              Pair  Count\n",
       "0        he forego      1\n",
       "1         he exult      1\n",
       "2     he emphasize      1\n",
       "3     he implement      1\n",
       "4       he protect      3\n",
       "..             ...    ...\n",
       "463        he cede      1\n",
       "464  he commission      1\n",
       "465      he invade      1\n",
       "466    he postpone      1\n",
       "467      he harbor      1\n",
       "\n",
       "[468 rows x 2 columns]"
      ]
     },
     "execution_count": 37,
     "metadata": {},
     "output_type": "execute_result"
    }
   ],
   "source": [
    "male_pronoun_verb_counts"
   ]
  },
  {
   "cell_type": "markdown",
   "metadata": {},
   "source": [
    "After creating a pandas DataFrame with our pronoun-verb pairs we can arrange the frequency counts so pairs with the highest count are first."
   ]
  },
  {
   "cell_type": "code",
   "execution_count": 38,
   "metadata": {},
   "outputs": [],
   "source": [
    "male_pronoun_verb_counts.sort_values(by=['Count'], inplace=True, ascending=False)"
   ]
  },
  {
   "cell_type": "code",
   "execution_count": 39,
   "metadata": {},
   "outputs": [
    {
     "data": {
      "text/html": [
       "<div>\n",
       "<style scoped>\n",
       "    .dataframe tbody tr th:only-of-type {\n",
       "        vertical-align: middle;\n",
       "    }\n",
       "\n",
       "    .dataframe tbody tr th {\n",
       "        vertical-align: top;\n",
       "    }\n",
       "\n",
       "    .dataframe thead th {\n",
       "        text-align: right;\n",
       "    }\n",
       "</style>\n",
       "<table border=\"1\" class=\"dataframe\">\n",
       "  <thead>\n",
       "    <tr style=\"text-align: right;\">\n",
       "      <th></th>\n",
       "      <th>Pair</th>\n",
       "      <th>Count</th>\n",
       "    </tr>\n",
       "  </thead>\n",
       "  <tbody>\n",
       "    <tr>\n",
       "      <th>30</th>\n",
       "      <td>he consume</td>\n",
       "      <td>61</td>\n",
       "    </tr>\n",
       "    <tr>\n",
       "      <th>17</th>\n",
       "      <td>he serve</td>\n",
       "      <td>45</td>\n",
       "    </tr>\n",
       "    <tr>\n",
       "      <th>108</th>\n",
       "      <td>he talk</td>\n",
       "      <td>32</td>\n",
       "    </tr>\n",
       "    <tr>\n",
       "      <th>57</th>\n",
       "      <td>he need</td>\n",
       "      <td>19</td>\n",
       "    </tr>\n",
       "    <tr>\n",
       "      <th>139</th>\n",
       "      <td>he love</td>\n",
       "      <td>18</td>\n",
       "    </tr>\n",
       "    <tr>\n",
       "      <th>...</th>\n",
       "      <td>...</td>\n",
       "      <td>...</td>\n",
       "    </tr>\n",
       "    <tr>\n",
       "      <th>246</th>\n",
       "      <td>he awaken</td>\n",
       "      <td>1</td>\n",
       "    </tr>\n",
       "    <tr>\n",
       "      <th>244</th>\n",
       "      <td>he remove</td>\n",
       "      <td>1</td>\n",
       "    </tr>\n",
       "    <tr>\n",
       "      <th>243</th>\n",
       "      <td>he smile</td>\n",
       "      <td>1</td>\n",
       "    </tr>\n",
       "    <tr>\n",
       "      <th>242</th>\n",
       "      <td>he overthrow</td>\n",
       "      <td>1</td>\n",
       "    </tr>\n",
       "    <tr>\n",
       "      <th>467</th>\n",
       "      <td>he harbor</td>\n",
       "      <td>1</td>\n",
       "    </tr>\n",
       "  </tbody>\n",
       "</table>\n",
       "<p>468 rows × 2 columns</p>\n",
       "</div>"
      ],
      "text/plain": [
       "             Pair  Count\n",
       "30     he consume     61\n",
       "17       he serve     45\n",
       "108       he talk     32\n",
       "57        he need     19\n",
       "139       he love     18\n",
       "..            ...    ...\n",
       "246     he awaken      1\n",
       "244     he remove      1\n",
       "243      he smile      1\n",
       "242  he overthrow      1\n",
       "467     he harbor      1\n",
       "\n",
       "[468 rows x 2 columns]"
      ]
     },
     "execution_count": 39,
     "metadata": {},
     "output_type": "execute_result"
    }
   ],
   "source": [
    "male_pronoun_verb_counts"
   ]
  },
  {
   "cell_type": "markdown",
   "metadata": {},
   "source": [
    "<div class=\"alert alert-block alert-info\">\n",
    "Before we continue: one concern had by students was whether it is possible to save variables so that we would not have to rerun spaCy. The answer is: yes, but we need to be mindful of the variable's data structure. During points in our code we can transform our data structure (our dictionary, our list, etc.) to a pandas DataFrame and save the pandas DataFrame to a CSV file. A CSV file looks like an Excel spreadsheet and can be easily read back into your code. The following commented-out example shows how to save a CSV file and then read it back into your Notebook.\n",
    "</div>"
   ]
  },
  {
   "cell_type": "code",
   "execution_count": 40,
   "metadata": {},
   "outputs": [],
   "source": [
    "# male_pronoun_verb_counts.to_csv('male_pronoun_verb_counts.csv') # save your variable to a CSV file on disk\n",
    "# loaded_male_pronoun_verb_counts = pd.read_csv('male_pronoun_verb_counts.csv') # load your CSV file "
   ]
  },
  {
   "cell_type": "markdown",
   "metadata": {},
   "source": [
    "### Visualizing our Results for Analysis"
   ]
  },
  {
   "cell_type": "markdown",
   "metadata": {},
   "source": [
    "We are now ready to visualize our results: grammatical pronoun-verb pairs that show us which verbs are commonly associated with the pronoun he in our Reddit sample of \"Worldnews,\" \"News,\" and \"Politics.\"\n",
    "\n",
    "The following code takes a subset of the first 25 rows of `male_pronoun_verb_counts`."
   ]
  },
  {
   "cell_type": "code",
   "execution_count": 41,
   "metadata": {},
   "outputs": [],
   "source": [
    "top_male_pronoun_verb_counts = male_pronoun_verb_counts[:25].copy()"
   ]
  },
  {
   "cell_type": "code",
   "execution_count": 42,
   "metadata": {},
   "outputs": [
    {
     "data": {
      "text/html": [
       "<div>\n",
       "<style scoped>\n",
       "    .dataframe tbody tr th:only-of-type {\n",
       "        vertical-align: middle;\n",
       "    }\n",
       "\n",
       "    .dataframe tbody tr th {\n",
       "        vertical-align: top;\n",
       "    }\n",
       "\n",
       "    .dataframe thead th {\n",
       "        text-align: right;\n",
       "    }\n",
       "</style>\n",
       "<table border=\"1\" class=\"dataframe\">\n",
       "  <thead>\n",
       "    <tr style=\"text-align: right;\">\n",
       "      <th></th>\n",
       "      <th>Pair</th>\n",
       "      <th>Count</th>\n",
       "    </tr>\n",
       "  </thead>\n",
       "  <tbody>\n",
       "    <tr>\n",
       "      <th>30</th>\n",
       "      <td>he consume</td>\n",
       "      <td>61</td>\n",
       "    </tr>\n",
       "    <tr>\n",
       "      <th>17</th>\n",
       "      <td>he serve</td>\n",
       "      <td>45</td>\n",
       "    </tr>\n",
       "    <tr>\n",
       "      <th>108</th>\n",
       "      <td>he talk</td>\n",
       "      <td>32</td>\n",
       "    </tr>\n",
       "    <tr>\n",
       "      <th>57</th>\n",
       "      <td>he need</td>\n",
       "      <td>19</td>\n",
       "    </tr>\n",
       "    <tr>\n",
       "      <th>139</th>\n",
       "      <td>he love</td>\n",
       "      <td>18</td>\n",
       "    </tr>\n",
       "    <tr>\n",
       "      <th>21</th>\n",
       "      <td>he leave</td>\n",
       "      <td>15</td>\n",
       "    </tr>\n",
       "    <tr>\n",
       "      <th>29</th>\n",
       "      <td>he write</td>\n",
       "      <td>14</td>\n",
       "    </tr>\n",
       "    <tr>\n",
       "      <th>130</th>\n",
       "      <td>he miss</td>\n",
       "      <td>13</td>\n",
       "    </tr>\n",
       "    <tr>\n",
       "      <th>80</th>\n",
       "      <td>he learn</td>\n",
       "      <td>13</td>\n",
       "    </tr>\n",
       "    <tr>\n",
       "      <th>100</th>\n",
       "      <td>he permit</td>\n",
       "      <td>11</td>\n",
       "    </tr>\n",
       "    <tr>\n",
       "      <th>23</th>\n",
       "      <td>he perform</td>\n",
       "      <td>11</td>\n",
       "    </tr>\n",
       "    <tr>\n",
       "      <th>43</th>\n",
       "      <td>he speak</td>\n",
       "      <td>11</td>\n",
       "    </tr>\n",
       "    <tr>\n",
       "      <th>55</th>\n",
       "      <td>he continue</td>\n",
       "      <td>11</td>\n",
       "    </tr>\n",
       "    <tr>\n",
       "      <th>11</th>\n",
       "      <td>he join</td>\n",
       "      <td>11</td>\n",
       "    </tr>\n",
       "    <tr>\n",
       "      <th>75</th>\n",
       "      <td>he offer</td>\n",
       "      <td>10</td>\n",
       "    </tr>\n",
       "    <tr>\n",
       "      <th>179</th>\n",
       "      <td>he deserve</td>\n",
       "      <td>10</td>\n",
       "    </tr>\n",
       "    <tr>\n",
       "      <th>84</th>\n",
       "      <td>he try</td>\n",
       "      <td>10</td>\n",
       "    </tr>\n",
       "    <tr>\n",
       "      <th>22</th>\n",
       "      <td>he work</td>\n",
       "      <td>10</td>\n",
       "    </tr>\n",
       "    <tr>\n",
       "      <th>141</th>\n",
       "      <td>he live</td>\n",
       "      <td>9</td>\n",
       "    </tr>\n",
       "    <tr>\n",
       "      <th>184</th>\n",
       "      <td>he indicate</td>\n",
       "      <td>9</td>\n",
       "    </tr>\n",
       "    <tr>\n",
       "      <th>59</th>\n",
       "      <td>he teach</td>\n",
       "      <td>9</td>\n",
       "    </tr>\n",
       "    <tr>\n",
       "      <th>204</th>\n",
       "      <td>he look</td>\n",
       "      <td>9</td>\n",
       "    </tr>\n",
       "    <tr>\n",
       "      <th>168</th>\n",
       "      <td>he seek</td>\n",
       "      <td>9</td>\n",
       "    </tr>\n",
       "    <tr>\n",
       "      <th>143</th>\n",
       "      <td>he prove</td>\n",
       "      <td>9</td>\n",
       "    </tr>\n",
       "    <tr>\n",
       "      <th>66</th>\n",
       "      <td>he bear</td>\n",
       "      <td>8</td>\n",
       "    </tr>\n",
       "  </tbody>\n",
       "</table>\n",
       "</div>"
      ],
      "text/plain": [
       "            Pair  Count\n",
       "30    he consume     61\n",
       "17      he serve     45\n",
       "108      he talk     32\n",
       "57       he need     19\n",
       "139      he love     18\n",
       "21      he leave     15\n",
       "29      he write     14\n",
       "130      he miss     13\n",
       "80      he learn     13\n",
       "100    he permit     11\n",
       "23    he perform     11\n",
       "43      he speak     11\n",
       "55   he continue     11\n",
       "11       he join     11\n",
       "75      he offer     10\n",
       "179   he deserve     10\n",
       "84        he try     10\n",
       "22       he work     10\n",
       "141      he live      9\n",
       "184  he indicate      9\n",
       "59      he teach      9\n",
       "204      he look      9\n",
       "168      he seek      9\n",
       "143     he prove      9\n",
       "66       he bear      8"
      ]
     },
     "execution_count": 42,
     "metadata": {},
     "output_type": "execute_result"
    }
   ],
   "source": [
    "top_male_pronoun_verb_counts"
   ]
  },
  {
   "cell_type": "markdown",
   "metadata": {},
   "source": [
    "These top grammatical pairs can now be visualized with matplotlib. \n",
    "\n",
    "The following code imports matplotlib, sets the plot's size, and renders the visualization."
   ]
  },
  {
   "cell_type": "code",
   "execution_count": 43,
   "metadata": {
    "scrolled": true
   },
   "outputs": [],
   "source": [
    "import matplotlib as plt\n",
    "\n",
    "plt.rcParams['figure.figsize'] = [15, 10]\n",
    "\n",
    "top_male_pronoun_verb_counts.sort_values(by=['Count'], inplace=True, ascending=True)"
   ]
  },
  {
   "cell_type": "code",
   "execution_count": 44,
   "metadata": {},
   "outputs": [
    {
     "data": {
      "text/plain": [
       "<AxesSubplot:title={'center':\"Top Grammatical Pronoun-Verb Pairs with He: Searching Mr. Hyde's Speeches in Congress\"}, ylabel='Pair'>"
      ]
     },
     "execution_count": 44,
     "metadata": {},
     "output_type": "execute_result"
    },
    {
     "data": {
      "image/png": "[encoded data removed]",
      "text/plain": [
       "<Figure size 432x288 with 1 Axes>"
      ]
     },
     "metadata": {
      "needs_background": "light"
     },
     "output_type": "display_data"
    }
   ],
   "source": [
    "top_male_pronoun_verb_counts.plot.barh(x = \"Pair\", y = \"Count\",\n",
    "            title = \"Top Grammatical Pronoun-Verb Pairs with He: Searching Mr. Hyde's Speeches in Congress\")"
   ]
  },
  {
   "cell_type": "markdown",
   "metadata": {},
   "source": [
    "### Reiterating the Process to Extract Female Grammatical Pronouns and their Verbs "
   ]
  },
  {
   "cell_type": "markdown",
   "metadata": {},
   "source": [
    "We can reiterate the same process outlined above to extract the pronoun she and its grammatical verbs. The following code defines one new function (to extract female pronoun-verb pairs) and then calls our already defined functions to render a bar graph of top pairs."
   ]
  },
  {
   "cell_type": "code",
   "execution_count": 45,
   "metadata": {},
   "outputs": [
    {
     "data": {
      "text/plain": [
       "<AxesSubplot:title={'center':\"Top Grammatical Pronoun-Verb Pairs with He: Searching Mr. Hyde's Speeches in Congress\"}, ylabel='Pair'>"
      ]
     },
     "execution_count": 45,
     "metadata": {},
     "output_type": "execute_result"
    },
    {
     "data": {
      "image/png": "[encoded data removed]",
      "text/plain": [
       "<Figure size 1080x720 with 1 Axes>"
      ]
     },
     "metadata": {
      "needs_background": "light"
     },
     "output_type": "display_data"
    }
   ],
   "source": [
    "# extract grammatical pronoun-verb pairs where she is subject\n",
    "def extractMalePairs(pairs):\n",
    "    regex = re.compile('he ')\n",
    "    male = [word for word in lowercase_pairs if regex.match(word)]\n",
    "    return male\n",
    "\n",
    "male = extractMalePairs(lowercase_pairs)\n",
    "\n",
    "# remove stop words\n",
    "male_no_stopwords = removeStopWords(male)\n",
    "\n",
    "# create a dictionary with each unique pair and its frequency\n",
    "male_dictionary = countWords(male_no_stopwords)\n",
    "\n",
    "# create a data frame from our dictionary of grammatical pairs\n",
    "male_pronoun_verb_counts = pd.DataFrame(male_dictionary.items(),columns = ['Pair','Count'])\n",
    "\n",
    "# arrange in ascending order\n",
    "male_pronoun_verb_counts.sort_values(by=['Count'], inplace=True, ascending=False)\n",
    "\n",
    "# take a subset of the data\n",
    "top_male_pronoun_verb_counts = male_pronoun_verb_counts[:25].copy()\n",
    "\n",
    "# set the parameters of the visualization\n",
    "plt.rcParams['figure.figsize'] = [15, 10]\n",
    "\n",
    "# sort the pairs for visualization\n",
    "top_male_pronoun_verb_counts.sort_values(by=['Count'], inplace=True, ascending=True)\n",
    "\n",
    "# render visualization\n",
    "top_male_pronoun_verb_counts.plot.barh(x = \"Pair\", y = \"Count\",\n",
    "            title = \"Top Grammatical Pronoun-Verb Pairs with He: Searching Mr. Hyde's Speeches in Congress\")"
   ]
  },
  {
   "cell_type": "markdown",
   "metadata": {},
   "source": [
    "### Extracting Adjectives that Modify the Words \"Man\" and \"Woman\""
   ]
  },
  {
   "cell_type": "markdown",
   "metadata": {},
   "source": [
    "To keep our data sets small, you can read in another subset of the Reddit data which includes just sentences with the word \"man\" or \"woman.\" "
   ]
  },
  {
   "cell_type": "markdown",
   "metadata": {},
   "source": [
    "As mentioned, you can modiy the code in this Notebook to extract female adjective-noun pairs. To see what I mean, let's get started on this problem together.\n",
    "\n",
    "We know we already have functions that count pairs, create DataFrames, and visualize our results. Therefore, we just need to change the code that determines which pairs are extracted. Instead of extracting noun-verb pairs we want to extract adjective-noun pairs. \n",
    "\n",
    "So, let's return to the `extractPairs()` function and modify it for our assignment. Instead of using the symbols `nsubj` (for noun subject), `nsubjpass` (for passive noun subject) and `VERB`, we will use `amod` (for adjectival modifier), `acomp` (for adjectival complement), and `NOUN`. "
   ]
  },
  {
   "cell_type": "code",
   "execution_count": 46,
   "metadata": {},
   "outputs": [],
   "source": [
    "from spacy.symbols import amod, acomp, NOUN\n",
    "\n",
    "def extractAdjNounPairs(spacy_doc_object):\n",
    "    pairs = []\n",
    "    for doc in spacy_doc_object:\n",
    "        for adjective in doc:\n",
    "            if adjective.dep == amod or adjective.dep == acomp and adjective.head.pos == NOUN: # or adjective.dep == ccomp or adjective.dep == conj \n",
    "                extracted_pairs = adjective.text, adjective.head.lemma_\n",
    "                concat_extracted_pairs = ' '.join(extracted_pairs)\n",
    "                pairs.append(str(concat_extracted_pairs))\n",
    "    return pairs\n",
    "\n",
    "adjective_noun_pairs = extractAdjNounPairs(hyde_congress)"
   ]
  },
  {
   "cell_type": "code",
   "execution_count": 47,
   "metadata": {},
   "outputs": [
    {
     "data": {
      "text/plain": [
       "['interested party',\n",
       " 'interested party',\n",
       " 'overall proposal',\n",
       " 'public interest',\n",
       " 'basic theory',\n",
       " 'public health',\n",
       " 'legal authority',\n",
       " 'proposed rulemake',\n",
       " 'important cause',\n",
       " 'young man',\n",
       " 'heavy smoker',\n",
       " 'light smoker',\n",
       " 'less pack',\n",
       " 'unique situation',\n",
       " 'such operation',\n",
       " 'public interest',\n",
       " 'clear bearing',\n",
       " 'public interest',\n",
       " 'public health',\n",
       " 'several agency',\n",
       " 'public interest',\n",
       " 'overall determination',\n",
       " 'public interest',\n",
       " 'own responsibility',\n",
       " 'public health',\n",
       " 'official action',\n",
       " 'public interest',\n",
       " 'single instance',\n",
       " 'obscene matter',\n",
       " 'substantial amount']"
      ]
     },
     "execution_count": 47,
     "metadata": {},
     "output_type": "execute_result"
    }
   ],
   "source": [
    "adjective_noun_pairs[:30]"
   ]
  },
  {
   "cell_type": "markdown",
   "metadata": {},
   "source": [
    "Like our previous code, we can transform each pair to lower case so the same word with a different case is not counted separately. In other words, we don't want to count \"Woman\" and \"woman\" separately."
   ]
  },
  {
   "cell_type": "code",
   "execution_count": 48,
   "metadata": {},
   "outputs": [],
   "source": [
    "lowercase_adjective_noun_pairs = [word.lower() for word in adjective_noun_pairs]"
   ]
  },
  {
   "cell_type": "markdown",
   "metadata": {},
   "source": [
    "Now instead of extracting pairs with the regular expression \"she \" we can extract pairs with the regular expression \" woman.\""
   ]
  },
  {
   "cell_type": "code",
   "execution_count": 49,
   "metadata": {},
   "outputs": [],
   "source": [
    "def extractFemaleAdjNounPairs(lowercase_adjective_noun_pairs):\n",
    "    regex = re.compile(' woman')\n",
    "    female = [word for word in lowercase_adjective_noun_pairs if regex.search(word)]\n",
    "    return female\n",
    "\n",
    "female_adj_noun_pairs = extractFemaleAdjNounPairs(lowercase_adjective_noun_pairs)"
   ]
  },
  {
   "cell_type": "code",
   "execution_count": 50,
   "metadata": {},
   "outputs": [
    {
     "data": {
      "text/plain": [
       "['many woman',\n",
       " 'con woman',\n",
       " 'young woman',\n",
       " 'first woman',\n",
       " 'lithuanian woman',\n",
       " 'other woman',\n",
       " 'poor woman',\n",
       " 'poor woman',\n",
       " 'distressed woman',\n",
       " 'pregnant woman',\n",
       " 'poor woman',\n",
       " 'rich woman',\n",
       " 'poor woman',\n",
       " 'poor woman',\n",
       " 'rich woman',\n",
       " 'rich woman',\n",
       " 'poor woman',\n",
       " 'black woman',\n",
       " 'energetic woman',\n",
       " 'rich woman',\n",
       " 'poor woman',\n",
       " 'pregnant woman',\n",
       " 'american woman',\n",
       " 'american woman',\n",
       " 'american woman',\n",
       " 'poor woman',\n",
       " 'poor woman',\n",
       " 'poor woman',\n",
       " 'poor woman',\n",
       " 'poor woman',\n",
       " 'poor woman',\n",
       " 'pregnant woman',\n",
       " 'poor woman',\n",
       " 'white woman',\n",
       " 'black woman',\n",
       " 'young woman',\n",
       " 'poor woman',\n",
       " 'young woman',\n",
       " 'pregnant woman',\n",
       " 'pregnant woman',\n",
       " 'unfortunate woman',\n",
       " 'married woman',\n",
       " 'married woman',\n",
       " 'poor woman',\n",
       " 'poor woman',\n",
       " 'pregnant woman',\n",
       " 'other woman',\n",
       " 'poor woman',\n",
       " 'poor woman',\n",
       " 'poor woman']"
      ]
     },
     "execution_count": 50,
     "metadata": {},
     "output_type": "execute_result"
    }
   ],
   "source": [
    "female_adj_noun_pairs[:50]"
   ]
  },
  {
   "cell_type": "markdown",
   "metadata": {},
   "source": [
    "We can now use our functions to count and visualize our data."
   ]
  },
  {
   "cell_type": "code",
   "execution_count": 51,
   "metadata": {},
   "outputs": [
    {
     "data": {
      "text/plain": [
       "<AxesSubplot:title={'center':\"Top Grammatical Adjective-Noun Pairs with Woman: Searching Mr. Hyde's Speeches in Congress\"}, ylabel='Pair'>"
      ]
     },
     "execution_count": 51,
     "metadata": {},
     "output_type": "execute_result"
    },
    {
     "data": {
      "image/png": "[encoded data removed]",
      "text/plain": [
       "<Figure size 1080x720 with 1 Axes>"
      ]
     },
     "metadata": {
      "needs_background": "light"
     },
     "output_type": "display_data"
    }
   ],
   "source": [
    "# remove stop words\n",
    "female_adj_noun_pairs_no_stopwords = removeStopWords(female_adj_noun_pairs)\n",
    "\n",
    "# create a dictionary with each unique pair and its frequency\n",
    "female_adj_noun_dictionary = countWords(female_adj_noun_pairs_no_stopwords)\n",
    "\n",
    "# create a data frame from our dictionary of grammatical pairs\n",
    "female_adj_noun_df = pd.DataFrame(female_adj_noun_dictionary.items(),columns = ['Pair','Count'])\n",
    "\n",
    "# arrange in ascending order\n",
    "female_adj_noun_df.sort_values(by=['Count'], inplace=True, ascending=False)\n",
    "\n",
    "top_female_adj_noun_counts = female_adj_noun_df[:45].copy()\n",
    "\n",
    "# set the parameters of the visualization\n",
    "plt.rcParams['figure.figsize'] = [15, 10]\n",
    "\n",
    "# sort the pairs for visualization\n",
    "top_female_adj_noun_counts.sort_values(by=['Count'], inplace=True, ascending=True)\n",
    "\n",
    "# render visualization\n",
    "top_female_adj_noun_counts.plot.barh(x = \"Pair\", y = \"Count\",\n",
    "            title = \"Top Grammatical Adjective-Noun Pairs with Woman: Searching Mr. Hyde's Speeches in Congress\")"
   ]
  },
  {
   "cell_type": "code",
   "execution_count": 52,
   "metadata": {},
   "outputs": [],
   "source": [
    "def extractMaleAdjNounPairs(lowercase_adjective_noun_pairs):\n",
    "    regex = re.compile(' man$')\n",
    "    male = [word for word in lowercase_adjective_noun_pairs if regex.search(word)]\n",
    "    return male\n",
    "\n",
    "male_adj_noun_pairs = extractMaleAdjNounPairs(lowercase_adjective_noun_pairs)"
   ]
  },
  {
   "cell_type": "code",
   "execution_count": 53,
   "metadata": {},
   "outputs": [
    {
     "data": {
      "text/plain": [
       "['young man',\n",
       " 'honest man',\n",
       " 'enterprising man',\n",
       " 'young man',\n",
       " 'creative man',\n",
       " 'young man',\n",
       " 'young man',\n",
       " 'blind man',\n",
       " 'blind man',\n",
       " 'noble man',\n",
       " 'lobbying man',\n",
       " 'greatest man',\n",
       " 'black man',\n",
       " 'countryan man',\n",
       " 'eminent man',\n",
       " 'brilliant man',\n",
       " 'young man',\n",
       " 'outstanding man',\n",
       " 'outstanding man',\n",
       " 'young man',\n",
       " 'bright man',\n",
       " 'young man',\n",
       " 'many man',\n",
       " 'young man',\n",
       " 'decent man',\n",
       " 'right man',\n",
       " 'first man',\n",
       " 'american man',\n",
       " 'front man',\n",
       " 'good man']"
      ]
     },
     "execution_count": 53,
     "metadata": {},
     "output_type": "execute_result"
    }
   ],
   "source": [
    "male_adj_noun_pairs[:30]"
   ]
  },
  {
   "cell_type": "code",
   "execution_count": 54,
   "metadata": {},
   "outputs": [
    {
     "data": {
      "text/plain": [
       "<AxesSubplot:title={'center':\"Top Grammatical Adjective-Noun Pairs with Man: Searching Mr. Hyde's Speeches in Congress\"}, ylabel='Pair'>"
      ]
     },
     "execution_count": 54,
     "metadata": {},
     "output_type": "execute_result"
    },
    {
     "data": {
      "image/png": "[encoded data removed]",
      "text/plain": [
       "<Figure size 1080x720 with 1 Axes>"
      ]
     },
     "metadata": {
      "needs_background": "light"
     },
     "output_type": "display_data"
    }
   ],
   "source": [
    "# remove stop words\n",
    "male_adj_noun_pairs_no_stopwords = removeStopWords(male_adj_noun_pairs)\n",
    "\n",
    "# create a dictionary with each unique pair and its frequency\n",
    "male_adj_noun_dictionary = countWords(male_adj_noun_pairs_no_stopwords)\n",
    "\n",
    "# create a data frame from our dictionary of grammatical pairs\n",
    "male_adj_noun_df = pd.DataFrame(male_adj_noun_dictionary.items(),columns = ['Pair','Count'])\n",
    "\n",
    "# arrange in ascending order\n",
    "male_adj_noun_df.sort_values(by=['Count'], inplace=True, ascending=False)\n",
    "\n",
    "top_male_adj_noun_counts = male_adj_noun_df[:45].copy()\n",
    "\n",
    "# set the parameters of the visualization\n",
    "plt.rcParams['figure.figsize'] = [15, 10]\n",
    "\n",
    "# sort the pairs for visualization\n",
    "top_male_adj_noun_counts.sort_values(by=['Count'], inplace=True, ascending=True)\n",
    "\n",
    "# render visualization\n",
    "top_male_adj_noun_counts.plot.barh(x = \"Pair\", y = \"Count\",\n",
    "            title = \"Top Grammatical Adjective-Noun Pairs with Man: Searching Mr. Hyde's Speeches in Congress\")"
   ]
  },
  {
   "cell_type": "code",
   "execution_count": 126,
   "metadata": {},
   "outputs": [],
   "source": [
    "regex = re.compile(' man/b')"
   ]
  },
  {
   "cell_type": "code",
   "execution_count": null,
   "metadata": {},
   "outputs": [],
   "source": []
  }
 ],
 "metadata": {
  "kernelspec": {
   "display_name": "Python 3",
   "language": "python",
   "name": "python3"
  },
  "language_info": {
   "codemirror_mode": {
    "name": "ipython",
    "version": 3
   },
   "file_extension": ".py",
   "mimetype": "text/x-python",
   "name": "python",
   "nbconvert_exporter": "python",
   "pygments_lexer": "ipython3",
   "version": "3.6.7"
  }
 },
 "nbformat": 4,
 "nbformat_minor": 4
}
